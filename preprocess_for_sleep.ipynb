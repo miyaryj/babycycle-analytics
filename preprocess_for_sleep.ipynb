{
  "nbformat": 4,
  "nbformat_minor": 0,
  "metadata": {
    "colab": {
      "name": "preprocess_for_sleep.ipynb",
      "provenance": [],
      "collapsed_sections": []
    },
    "kernelspec": {
      "name": "python3",
      "display_name": "Python 3"
    }
  },
  "cells": [
    {
      "cell_type": "code",
      "metadata": {
        "colab": {
          "base_uri": "https://localhost:8080/"
        },
        "id": "ClsyvvMcxDaq",
        "outputId": "59048dd3-b821-442e-8ec3-afafada26cc2"
      },
      "source": [
        "%cd /content/drive/My Drive/Colab Notebooks/"
      ],
      "execution_count": 42,
      "outputs": [
        {
          "output_type": "stream",
          "text": [
            "/content/drive/My Drive/Colab Notebooks\n"
          ],
          "name": "stdout"
        }
      ]
    },
    {
      "cell_type": "code",
      "metadata": {
        "id": "qkjdbo6DxEBw"
      },
      "source": [
        "import pandas as pd\n",
        "import datetime"
      ],
      "execution_count": 43,
      "outputs": []
    },
    {
      "cell_type": "code",
      "metadata": {
        "id": "79y2-pHi1FhU"
      },
      "source": [
        "target = '202103'"
      ],
      "execution_count": 44,
      "outputs": []
    },
    {
      "cell_type": "code",
      "metadata": {
        "colab": {
          "base_uri": "https://localhost:8080/",
          "height": 399
        },
        "id": "tkA-RWkwxGfy",
        "outputId": "e9dfb2f9-0f5f-4936-fa5b-ba3de7bf4838"
      },
      "source": [
        "df = pd.read_table(f'data/parsed/{target}.tsv', index_col=0)\n",
        "df"
      ],
      "execution_count": 45,
      "outputs": [
        {
          "output_type": "execute_result",
          "data": {
            "text/html": [
              "<div>\n",
              "<style scoped>\n",
              "    .dataframe tbody tr th:only-of-type {\n",
              "        vertical-align: middle;\n",
              "    }\n",
              "\n",
              "    .dataframe tbody tr th {\n",
              "        vertical-align: top;\n",
              "    }\n",
              "\n",
              "    .dataframe thead th {\n",
              "        text-align: right;\n",
              "    }\n",
              "</style>\n",
              "<table border=\"1\" class=\"dataframe\">\n",
              "  <thead>\n",
              "    <tr style=\"text-align: right;\">\n",
              "      <th></th>\n",
              "      <th>date</th>\n",
              "      <th>time</th>\n",
              "      <th>mothermilk</th>\n",
              "      <th>milk</th>\n",
              "      <th>expressedmilk</th>\n",
              "      <th>small</th>\n",
              "      <th>big</th>\n",
              "      <th>sleep</th>\n",
              "    </tr>\n",
              "  </thead>\n",
              "  <tbody>\n",
              "    <tr>\n",
              "      <th>0</th>\n",
              "      <td>2021-03-01</td>\n",
              "      <td>05:15:00</td>\n",
              "      <td>NaN</td>\n",
              "      <td>NaN</td>\n",
              "      <td>NaN</td>\n",
              "      <td>NaN</td>\n",
              "      <td>NaN</td>\n",
              "      <td>0.0</td>\n",
              "    </tr>\n",
              "    <tr>\n",
              "      <th>1</th>\n",
              "      <td>2021-03-01</td>\n",
              "      <td>05:30:00</td>\n",
              "      <td>NaN</td>\n",
              "      <td>NaN</td>\n",
              "      <td>NaN</td>\n",
              "      <td>1.0</td>\n",
              "      <td>NaN</td>\n",
              "      <td>NaN</td>\n",
              "    </tr>\n",
              "    <tr>\n",
              "      <th>2</th>\n",
              "      <td>2021-03-01</td>\n",
              "      <td>05:55:00</td>\n",
              "      <td>6.0</td>\n",
              "      <td>NaN</td>\n",
              "      <td>NaN</td>\n",
              "      <td>NaN</td>\n",
              "      <td>NaN</td>\n",
              "      <td>NaN</td>\n",
              "    </tr>\n",
              "    <tr>\n",
              "      <th>3</th>\n",
              "      <td>2021-03-01</td>\n",
              "      <td>06:25:00</td>\n",
              "      <td>NaN</td>\n",
              "      <td>NaN</td>\n",
              "      <td>NaN</td>\n",
              "      <td>1.0</td>\n",
              "      <td>NaN</td>\n",
              "      <td>NaN</td>\n",
              "    </tr>\n",
              "    <tr>\n",
              "      <th>4</th>\n",
              "      <td>2021-03-01</td>\n",
              "      <td>08:00:00</td>\n",
              "      <td>NaN</td>\n",
              "      <td>NaN</td>\n",
              "      <td>NaN</td>\n",
              "      <td>1.0</td>\n",
              "      <td>NaN</td>\n",
              "      <td>NaN</td>\n",
              "    </tr>\n",
              "    <tr>\n",
              "      <th>...</th>\n",
              "      <td>...</td>\n",
              "      <td>...</td>\n",
              "      <td>...</td>\n",
              "      <td>...</td>\n",
              "      <td>...</td>\n",
              "      <td>...</td>\n",
              "      <td>...</td>\n",
              "      <td>...</td>\n",
              "    </tr>\n",
              "    <tr>\n",
              "      <th>772</th>\n",
              "      <td>2021-03-31</td>\n",
              "      <td>21:45:00</td>\n",
              "      <td>NaN</td>\n",
              "      <td>NaN</td>\n",
              "      <td>NaN</td>\n",
              "      <td>NaN</td>\n",
              "      <td>NaN</td>\n",
              "      <td>0.0</td>\n",
              "    </tr>\n",
              "    <tr>\n",
              "      <th>773</th>\n",
              "      <td>2021-03-31</td>\n",
              "      <td>21:50:00</td>\n",
              "      <td>NaN</td>\n",
              "      <td>NaN</td>\n",
              "      <td>NaN</td>\n",
              "      <td>NaN</td>\n",
              "      <td>NaN</td>\n",
              "      <td>1.0</td>\n",
              "    </tr>\n",
              "    <tr>\n",
              "      <th>774</th>\n",
              "      <td>2021-03-31</td>\n",
              "      <td>21:50:00</td>\n",
              "      <td>9.0</td>\n",
              "      <td>NaN</td>\n",
              "      <td>NaN</td>\n",
              "      <td>NaN</td>\n",
              "      <td>NaN</td>\n",
              "      <td>NaN</td>\n",
              "    </tr>\n",
              "    <tr>\n",
              "      <th>775</th>\n",
              "      <td>2021-03-31</td>\n",
              "      <td>21:50:00</td>\n",
              "      <td>NaN</td>\n",
              "      <td>NaN</td>\n",
              "      <td>NaN</td>\n",
              "      <td>1.0</td>\n",
              "      <td>NaN</td>\n",
              "      <td>NaN</td>\n",
              "    </tr>\n",
              "    <tr>\n",
              "      <th>776</th>\n",
              "      <td>2021-03-31</td>\n",
              "      <td>21:50:00</td>\n",
              "      <td>NaN</td>\n",
              "      <td>NaN</td>\n",
              "      <td>NaN</td>\n",
              "      <td>NaN</td>\n",
              "      <td>1.0</td>\n",
              "      <td>NaN</td>\n",
              "    </tr>\n",
              "  </tbody>\n",
              "</table>\n",
              "<p>777 rows × 8 columns</p>\n",
              "</div>"
            ],
            "text/plain": [
              "           date      time  mothermilk  milk  expressedmilk  small  big  sleep\n",
              "0    2021-03-01  05:15:00         NaN   NaN            NaN    NaN  NaN    0.0\n",
              "1    2021-03-01  05:30:00         NaN   NaN            NaN    1.0  NaN    NaN\n",
              "2    2021-03-01  05:55:00         6.0   NaN            NaN    NaN  NaN    NaN\n",
              "3    2021-03-01  06:25:00         NaN   NaN            NaN    1.0  NaN    NaN\n",
              "4    2021-03-01  08:00:00         NaN   NaN            NaN    1.0  NaN    NaN\n",
              "..          ...       ...         ...   ...            ...    ...  ...    ...\n",
              "772  2021-03-31  21:45:00         NaN   NaN            NaN    NaN  NaN    0.0\n",
              "773  2021-03-31  21:50:00         NaN   NaN            NaN    NaN  NaN    1.0\n",
              "774  2021-03-31  21:50:00         9.0   NaN            NaN    NaN  NaN    NaN\n",
              "775  2021-03-31  21:50:00         NaN   NaN            NaN    1.0  NaN    NaN\n",
              "776  2021-03-31  21:50:00         NaN   NaN            NaN    NaN  1.0    NaN\n",
              "\n",
              "[777 rows x 8 columns]"
            ]
          },
          "metadata": {
            "tags": []
          },
          "execution_count": 45
        }
      ]
    },
    {
      "cell_type": "markdown",
      "metadata": {
        "id": "XKVicjFx7kGh"
      },
      "source": [
        "datetime indexをセット"
      ]
    },
    {
      "cell_type": "code",
      "metadata": {
        "colab": {
          "base_uri": "https://localhost:8080/",
          "height": 428
        },
        "id": "z-VQTPkyxS_M",
        "outputId": "7077d5fe-a111-49dd-d97e-2fd337e70170"
      },
      "source": [
        "df['datetime'] = pd.to_datetime(df['date'] + 'T' + df['time'])\n",
        "df = df.set_index('datetime')\n",
        "df"
      ],
      "execution_count": 46,
      "outputs": [
        {
          "output_type": "execute_result",
          "data": {
            "text/html": [
              "<div>\n",
              "<style scoped>\n",
              "    .dataframe tbody tr th:only-of-type {\n",
              "        vertical-align: middle;\n",
              "    }\n",
              "\n",
              "    .dataframe tbody tr th {\n",
              "        vertical-align: top;\n",
              "    }\n",
              "\n",
              "    .dataframe thead th {\n",
              "        text-align: right;\n",
              "    }\n",
              "</style>\n",
              "<table border=\"1\" class=\"dataframe\">\n",
              "  <thead>\n",
              "    <tr style=\"text-align: right;\">\n",
              "      <th></th>\n",
              "      <th>date</th>\n",
              "      <th>time</th>\n",
              "      <th>mothermilk</th>\n",
              "      <th>milk</th>\n",
              "      <th>expressedmilk</th>\n",
              "      <th>small</th>\n",
              "      <th>big</th>\n",
              "      <th>sleep</th>\n",
              "    </tr>\n",
              "    <tr>\n",
              "      <th>datetime</th>\n",
              "      <th></th>\n",
              "      <th></th>\n",
              "      <th></th>\n",
              "      <th></th>\n",
              "      <th></th>\n",
              "      <th></th>\n",
              "      <th></th>\n",
              "      <th></th>\n",
              "    </tr>\n",
              "  </thead>\n",
              "  <tbody>\n",
              "    <tr>\n",
              "      <th>2021-03-01 05:15:00</th>\n",
              "      <td>2021-03-01</td>\n",
              "      <td>05:15:00</td>\n",
              "      <td>NaN</td>\n",
              "      <td>NaN</td>\n",
              "      <td>NaN</td>\n",
              "      <td>NaN</td>\n",
              "      <td>NaN</td>\n",
              "      <td>0.0</td>\n",
              "    </tr>\n",
              "    <tr>\n",
              "      <th>2021-03-01 05:30:00</th>\n",
              "      <td>2021-03-01</td>\n",
              "      <td>05:30:00</td>\n",
              "      <td>NaN</td>\n",
              "      <td>NaN</td>\n",
              "      <td>NaN</td>\n",
              "      <td>1.0</td>\n",
              "      <td>NaN</td>\n",
              "      <td>NaN</td>\n",
              "    </tr>\n",
              "    <tr>\n",
              "      <th>2021-03-01 05:55:00</th>\n",
              "      <td>2021-03-01</td>\n",
              "      <td>05:55:00</td>\n",
              "      <td>6.0</td>\n",
              "      <td>NaN</td>\n",
              "      <td>NaN</td>\n",
              "      <td>NaN</td>\n",
              "      <td>NaN</td>\n",
              "      <td>NaN</td>\n",
              "    </tr>\n",
              "    <tr>\n",
              "      <th>2021-03-01 06:25:00</th>\n",
              "      <td>2021-03-01</td>\n",
              "      <td>06:25:00</td>\n",
              "      <td>NaN</td>\n",
              "      <td>NaN</td>\n",
              "      <td>NaN</td>\n",
              "      <td>1.0</td>\n",
              "      <td>NaN</td>\n",
              "      <td>NaN</td>\n",
              "    </tr>\n",
              "    <tr>\n",
              "      <th>2021-03-01 08:00:00</th>\n",
              "      <td>2021-03-01</td>\n",
              "      <td>08:00:00</td>\n",
              "      <td>NaN</td>\n",
              "      <td>NaN</td>\n",
              "      <td>NaN</td>\n",
              "      <td>1.0</td>\n",
              "      <td>NaN</td>\n",
              "      <td>NaN</td>\n",
              "    </tr>\n",
              "    <tr>\n",
              "      <th>...</th>\n",
              "      <td>...</td>\n",
              "      <td>...</td>\n",
              "      <td>...</td>\n",
              "      <td>...</td>\n",
              "      <td>...</td>\n",
              "      <td>...</td>\n",
              "      <td>...</td>\n",
              "      <td>...</td>\n",
              "    </tr>\n",
              "    <tr>\n",
              "      <th>2021-03-31 21:45:00</th>\n",
              "      <td>2021-03-31</td>\n",
              "      <td>21:45:00</td>\n",
              "      <td>NaN</td>\n",
              "      <td>NaN</td>\n",
              "      <td>NaN</td>\n",
              "      <td>NaN</td>\n",
              "      <td>NaN</td>\n",
              "      <td>0.0</td>\n",
              "    </tr>\n",
              "    <tr>\n",
              "      <th>2021-03-31 21:50:00</th>\n",
              "      <td>2021-03-31</td>\n",
              "      <td>21:50:00</td>\n",
              "      <td>NaN</td>\n",
              "      <td>NaN</td>\n",
              "      <td>NaN</td>\n",
              "      <td>NaN</td>\n",
              "      <td>NaN</td>\n",
              "      <td>1.0</td>\n",
              "    </tr>\n",
              "    <tr>\n",
              "      <th>2021-03-31 21:50:00</th>\n",
              "      <td>2021-03-31</td>\n",
              "      <td>21:50:00</td>\n",
              "      <td>9.0</td>\n",
              "      <td>NaN</td>\n",
              "      <td>NaN</td>\n",
              "      <td>NaN</td>\n",
              "      <td>NaN</td>\n",
              "      <td>NaN</td>\n",
              "    </tr>\n",
              "    <tr>\n",
              "      <th>2021-03-31 21:50:00</th>\n",
              "      <td>2021-03-31</td>\n",
              "      <td>21:50:00</td>\n",
              "      <td>NaN</td>\n",
              "      <td>NaN</td>\n",
              "      <td>NaN</td>\n",
              "      <td>1.0</td>\n",
              "      <td>NaN</td>\n",
              "      <td>NaN</td>\n",
              "    </tr>\n",
              "    <tr>\n",
              "      <th>2021-03-31 21:50:00</th>\n",
              "      <td>2021-03-31</td>\n",
              "      <td>21:50:00</td>\n",
              "      <td>NaN</td>\n",
              "      <td>NaN</td>\n",
              "      <td>NaN</td>\n",
              "      <td>NaN</td>\n",
              "      <td>1.0</td>\n",
              "      <td>NaN</td>\n",
              "    </tr>\n",
              "  </tbody>\n",
              "</table>\n",
              "<p>777 rows × 8 columns</p>\n",
              "</div>"
            ],
            "text/plain": [
              "                           date      time  mothermilk  ...  small  big  sleep\n",
              "datetime                                               ...                   \n",
              "2021-03-01 05:15:00  2021-03-01  05:15:00         NaN  ...    NaN  NaN    0.0\n",
              "2021-03-01 05:30:00  2021-03-01  05:30:00         NaN  ...    1.0  NaN    NaN\n",
              "2021-03-01 05:55:00  2021-03-01  05:55:00         6.0  ...    NaN  NaN    NaN\n",
              "2021-03-01 06:25:00  2021-03-01  06:25:00         NaN  ...    1.0  NaN    NaN\n",
              "2021-03-01 08:00:00  2021-03-01  08:00:00         NaN  ...    1.0  NaN    NaN\n",
              "...                         ...       ...         ...  ...    ...  ...    ...\n",
              "2021-03-31 21:45:00  2021-03-31  21:45:00         NaN  ...    NaN  NaN    0.0\n",
              "2021-03-31 21:50:00  2021-03-31  21:50:00         NaN  ...    NaN  NaN    1.0\n",
              "2021-03-31 21:50:00  2021-03-31  21:50:00         9.0  ...    NaN  NaN    NaN\n",
              "2021-03-31 21:50:00  2021-03-31  21:50:00         NaN  ...    1.0  NaN    NaN\n",
              "2021-03-31 21:50:00  2021-03-31  21:50:00         NaN  ...    NaN  1.0    NaN\n",
              "\n",
              "[777 rows x 8 columns]"
            ]
          },
          "metadata": {
            "tags": []
          },
          "execution_count": 46
        }
      ]
    },
    {
      "cell_type": "markdown",
      "metadata": {
        "id": "xehDoJLW7rYZ"
      },
      "source": [
        "睡眠時間 (分) をsleep_minutes列にセット"
      ]
    },
    {
      "cell_type": "code",
      "metadata": {
        "colab": {
          "base_uri": "https://localhost:8080/"
        },
        "id": "o5V8UzdQnihe",
        "outputId": "2a45f14f-ab5c-4015-c47a-c8522658844a"
      },
      "source": [
        "import numpy as np\n",
        "\n",
        "sleep_series = pd.Series()\n",
        "sleep_in_time = 0\n",
        "df['sleep_minutes'] = np.nan\n",
        "\n",
        "for index, row in df.iterrows():\n",
        "    if row['sleep'] == 1:\n",
        "        sleep_in_time = index\n",
        "    if row['sleep'] == 0 and sleep_in_time is not 0:\n",
        "        delta = index - sleep_in_time\n",
        "        df.loc[sleep_in_time, 'sleep_minutes'] = delta.total_seconds() / 60"
      ],
      "execution_count": 47,
      "outputs": [
        {
          "output_type": "stream",
          "text": [
            "/usr/local/lib/python3.7/dist-packages/ipykernel_launcher.py:3: DeprecationWarning: The default dtype for empty Series will be 'object' instead of 'float64' in a future version. Specify a dtype explicitly to silence this warning.\n",
            "  This is separate from the ipykernel package so we can avoid doing imports until\n"
          ],
          "name": "stderr"
        }
      ]
    },
    {
      "cell_type": "code",
      "metadata": {
        "colab": {
          "base_uri": "https://localhost:8080/"
        },
        "id": "LItr4Lis879O",
        "outputId": "b383fd85-e446-4651-cdf4-07cc6ecd6b4e"
      },
      "source": [
        "wake_series = pd.Series()\n",
        "wake_up_time = 0\n",
        "df['wake_minutes'] = np.nan\n",
        "\n",
        "for index, row in df.iterrows():\n",
        "    if row['sleep'] == 0:\n",
        "        wake_up_time = index\n",
        "    if row['sleep'] == 1 and wake_up_time is not 0:\n",
        "        delta = index - wake_up_time\n",
        "        df.loc[wake_up_time, 'wake_minutes'] = delta.total_seconds() / 60"
      ],
      "execution_count": 48,
      "outputs": [
        {
          "output_type": "stream",
          "text": [
            "/usr/local/lib/python3.7/dist-packages/ipykernel_launcher.py:1: DeprecationWarning: The default dtype for empty Series will be 'object' instead of 'float64' in a future version. Specify a dtype explicitly to silence this warning.\n",
            "  \"\"\"Entry point for launching an IPython kernel.\n"
          ],
          "name": "stderr"
        }
      ]
    },
    {
      "cell_type": "markdown",
      "metadata": {
        "id": "T5tW2oUX-M68"
      },
      "source": [
        "5分間隔のデータに整理"
      ]
    },
    {
      "cell_type": "code",
      "metadata": {
        "id": "w8p0Ptya54rT"
      },
      "source": [
        "df_5min = df.groupby(pd.Grouper(freq='5min')).sum()\n",
        "df_5min['sleep_minutes'] = df['sleep_minutes'].groupby(pd.Grouper(freq='5min')).mean()  # 同じ値が同じ時刻のデータすべてに入ってしまっている\n",
        "df_5min['wake_minutes'] = df['wake_minutes'].groupby(pd.Grouper(freq='5min')).mean()  # 同じ値が同じ時刻のデータすべてに入ってしまっている"
      ],
      "execution_count": 49,
      "outputs": []
    },
    {
      "cell_type": "markdown",
      "metadata": {
        "id": "XhmZEtUD-TBp"
      },
      "source": [
        "1時間ごとに、その時間に入眠した場合にどれくらい(分)眠り続けたかの平均"
      ]
    },
    {
      "cell_type": "code",
      "metadata": {
        "colab": {
          "base_uri": "https://localhost:8080/",
          "height": 644
        },
        "id": "he5_Fqji8R9k",
        "outputId": "9f940de6-fe1c-444d-9f2b-35590c9a9a9f"
      },
      "source": [
        "by_hour = df_5min.groupby(lambda x: datetime.time(hour=x.hour)).mean()\n",
        "by_hour['sleep_minutes'].plot.bar(figsize=(10,10))"
      ],
      "execution_count": 50,
      "outputs": [
        {
          "output_type": "execute_result",
          "data": {
            "text/plain": [
              "<matplotlib.axes._subplots.AxesSubplot at 0x7fa619794f50>"
            ]
          },
          "metadata": {
            "tags": []
          },
          "execution_count": 50
        },
        {
          "output_type": "display_data",
          "data": {
            "image/png": "[encoded data removed]",
            "text/plain": [
              "<Figure size 720x720 with 1 Axes>"
            ]
          },
          "metadata": {
            "tags": [],
            "needs_background": "light"
          }
        }
      ]
    },
    {
      "cell_type": "markdown",
      "metadata": {
        "id": "kLX4qbyY7Ig2"
      },
      "source": [
        "分布を確認"
      ]
    },
    {
      "cell_type": "code",
      "metadata": {
        "colab": {
          "base_uri": "https://localhost:8080/"
        },
        "id": "MMeTxAw43xYu",
        "outputId": "7269cc89-685a-4f93-a87d-0968d88db89a"
      },
      "source": [
        "df_5min[df_5min['mothermilk'] > 0]['mothermilk'].describe()"
      ],
      "execution_count": 51,
      "outputs": [
        {
          "output_type": "execute_result",
          "data": {
            "text/plain": [
              "count    89.000000\n",
              "mean     10.202247\n",
              "std       5.842983\n",
              "min       3.000000\n",
              "25%       6.000000\n",
              "50%       7.000000\n",
              "75%      14.000000\n",
              "max      27.000000\n",
              "Name: mothermilk, dtype: float64"
            ]
          },
          "metadata": {
            "tags": []
          },
          "execution_count": 51
        }
      ]
    },
    {
      "cell_type": "code",
      "metadata": {
        "colab": {
          "base_uri": "https://localhost:8080/"
        },
        "id": "mYzoxPCR5rXq",
        "outputId": "c8cde4bf-d149-42aa-9779-173d46f6595d"
      },
      "source": [
        "df_5min[df_5min['milk'] > 0]['milk'].describe()"
      ],
      "execution_count": 52,
      "outputs": [
        {
          "output_type": "execute_result",
          "data": {
            "text/plain": [
              "count    105.000000\n",
              "mean     128.857143\n",
              "std       50.025268\n",
              "min       80.000000\n",
              "25%       80.000000\n",
              "50%      120.000000\n",
              "75%      200.000000\n",
              "max      200.000000\n",
              "Name: milk, dtype: float64"
            ]
          },
          "metadata": {
            "tags": []
          },
          "execution_count": 52
        }
      ]
    },
    {
      "cell_type": "code",
      "metadata": {
        "colab": {
          "base_uri": "https://localhost:8080/"
        },
        "id": "WWn3aVE66C8a",
        "outputId": "459dfc67-c849-4405-d0ff-393e7406247c"
      },
      "source": [
        "df_5min[df_5min['expressedmilk'] > 0]['expressedmilk'].describe()"
      ],
      "execution_count": 53,
      "outputs": [
        {
          "output_type": "execute_result",
          "data": {
            "text/plain": [
              "count    0.0\n",
              "mean     NaN\n",
              "std      NaN\n",
              "min      NaN\n",
              "25%      NaN\n",
              "50%      NaN\n",
              "75%      NaN\n",
              "max      NaN\n",
              "Name: expressedmilk, dtype: float64"
            ]
          },
          "metadata": {
            "tags": []
          },
          "execution_count": 53
        }
      ]
    },
    {
      "cell_type": "code",
      "metadata": {
        "colab": {
          "base_uri": "https://localhost:8080/"
        },
        "id": "hQtehzGi6IVe",
        "outputId": "a8375a2a-3d6d-4629-a665-07b8c2eca4ef"
      },
      "source": [
        "df_5min[df_5min['sleep_minutes'] > 0]['sleep_minutes'].describe()"
      ],
      "execution_count": 54,
      "outputs": [
        {
          "output_type": "execute_result",
          "data": {
            "text/plain": [
              "count    164.000000\n",
              "mean     139.530488\n",
              "std      189.795060\n",
              "min        2.000000\n",
              "25%       35.000000\n",
              "50%       50.000000\n",
              "75%       96.250000\n",
              "max      633.000000\n",
              "Name: sleep_minutes, dtype: float64"
            ]
          },
          "metadata": {
            "tags": []
          },
          "execution_count": 54
        }
      ]
    },
    {
      "cell_type": "code",
      "metadata": {
        "colab": {
          "base_uri": "https://localhost:8080/"
        },
        "id": "jY6GKjaR_pV4",
        "outputId": "3f4437f8-83a0-427d-9b60-6641363cb212"
      },
      "source": [
        "df_5min[df_5min['wake_minutes'] > 0]['wake_minutes'].describe()"
      ],
      "execution_count": 55,
      "outputs": [
        {
          "output_type": "execute_result",
          "data": {
            "text/plain": [
              "count    165.000000\n",
              "mean     129.163636\n",
              "std       69.714513\n",
              "min        2.000000\n",
              "25%      100.000000\n",
              "50%      145.000000\n",
              "75%      175.000000\n",
              "max      250.000000\n",
              "Name: wake_minutes, dtype: float64"
            ]
          },
          "metadata": {
            "tags": []
          },
          "execution_count": 55
        }
      ]
    },
    {
      "cell_type": "markdown",
      "metadata": {
        "id": "n1IA5AC51rW5"
      },
      "source": [
        "ある時刻より前の最後のイベントを取得する関数"
      ]
    },
    {
      "cell_type": "code",
      "metadata": {
        "colab": {
          "base_uri": "https://localhost:8080/"
        },
        "id": "deyfUPzIEjEA",
        "outputId": "c972b004-4e5f-4b64-d738-e6392433d9c9"
      },
      "source": [
        "def last_event_by(df, time, column):\n",
        "    rows = df[:time][df[:time][column] > 0]\n",
        "    if len(rows) == 0:\n",
        "        return 0, 0, 0\n",
        "    row = rows.iloc[-1]\n",
        "    delta = time - row.name\n",
        "    return row.name, row[column], delta.total_seconds() / 60\n",
        "\n",
        "last_event_by(df_5min, pd.to_datetime('2020-10-02 03:00'), 'mothermilk')"
      ],
      "execution_count": 56,
      "outputs": [
        {
          "output_type": "execute_result",
          "data": {
            "text/plain": [
              "(0, 0, 0)"
            ]
          },
          "metadata": {
            "tags": []
          },
          "execution_count": 56
        }
      ]
    },
    {
      "cell_type": "markdown",
      "metadata": {
        "id": "H860k4l91tBN"
      },
      "source": [
        "睡眠時間と、その直前の各種イベントの内容をデータセット化"
      ]
    },
    {
      "cell_type": "code",
      "metadata": {
        "colab": {
          "base_uri": "https://localhost:8080/",
          "height": 399
        },
        "id": "40nFT4_hAruX",
        "outputId": "1966cd1f-ed4e-463b-ee9a-9aaa660e672e"
      },
      "source": [
        "sleep_df = pd.DataFrame(columns=['datetime', 'hour', 'sleep_minutes', 'last_mothermilk', 'last_mothermilk_before', 'last_milk', 'last_milk_before', 'last_small_before', 'last_big_before', 'last_wake_minutes'])\n",
        "\n",
        "for index, row in df_5min.iterrows():\n",
        "    if row['sleep_minutes'] > 0:\n",
        "        mothermilk_time, mothermilk, mothermilk_before = last_event_by(df_5min, index, 'mothermilk')\n",
        "        milk_time, milk, milk_before = last_event_by(df_5min, index, 'milk')\n",
        "        small_time, small, small_before = last_event_by(df_5min, index, 'small')\n",
        "        big_time, big, big_before = last_event_by(df_5min, index, 'big')\n",
        "        wake_time, wake, wake_before = last_event_by(df_5min, index, 'wake_minutes')\n",
        "        sleep_df = sleep_df.append({\n",
        "            'datetime': index,\n",
        "            'hour': index.hour,\n",
        "            'sleep_minutes': row['sleep_minutes'],\n",
        "            'last_mothermilk': mothermilk,\n",
        "            'last_mothermilk_before': mothermilk_before,\n",
        "            'last_milk': milk,\n",
        "            'last_milk_before': milk_before,\n",
        "            'last_small_before': small_before,\n",
        "            'last_big_before': big_before,\n",
        "            'last_wake_minutes': wake\n",
        "        }, ignore_index=True)\n",
        "\n",
        "sleep_df"
      ],
      "execution_count": 57,
      "outputs": [
        {
          "output_type": "execute_result",
          "data": {
            "text/html": [
              "<div>\n",
              "<style scoped>\n",
              "    .dataframe tbody tr th:only-of-type {\n",
              "        vertical-align: middle;\n",
              "    }\n",
              "\n",
              "    .dataframe tbody tr th {\n",
              "        vertical-align: top;\n",
              "    }\n",
              "\n",
              "    .dataframe thead th {\n",
              "        text-align: right;\n",
              "    }\n",
              "</style>\n",
              "<table border=\"1\" class=\"dataframe\">\n",
              "  <thead>\n",
              "    <tr style=\"text-align: right;\">\n",
              "      <th></th>\n",
              "      <th>datetime</th>\n",
              "      <th>hour</th>\n",
              "      <th>sleep_minutes</th>\n",
              "      <th>last_mothermilk</th>\n",
              "      <th>last_mothermilk_before</th>\n",
              "      <th>last_milk</th>\n",
              "      <th>last_milk_before</th>\n",
              "      <th>last_small_before</th>\n",
              "      <th>last_big_before</th>\n",
              "      <th>last_wake_minutes</th>\n",
              "    </tr>\n",
              "  </thead>\n",
              "  <tbody>\n",
              "    <tr>\n",
              "      <th>0</th>\n",
              "      <td>2021-03-01 08:20:00</td>\n",
              "      <td>8</td>\n",
              "      <td>50.0</td>\n",
              "      <td>6.0</td>\n",
              "      <td>145.0</td>\n",
              "      <td>0</td>\n",
              "      <td>0</td>\n",
              "      <td>20.0</td>\n",
              "      <td>0</td>\n",
              "      <td>185.0</td>\n",
              "    </tr>\n",
              "    <tr>\n",
              "      <th>1</th>\n",
              "      <td>2021-03-01 11:30:00</td>\n",
              "      <td>11</td>\n",
              "      <td>35.0</td>\n",
              "      <td>3.0</td>\n",
              "      <td>85.0</td>\n",
              "      <td>0</td>\n",
              "      <td>0</td>\n",
              "      <td>210.0</td>\n",
              "      <td>0</td>\n",
              "      <td>140.0</td>\n",
              "    </tr>\n",
              "    <tr>\n",
              "      <th>2</th>\n",
              "      <td>2021-03-01 12:15:00</td>\n",
              "      <td>12</td>\n",
              "      <td>103.0</td>\n",
              "      <td>3.0</td>\n",
              "      <td>130.0</td>\n",
              "      <td>0</td>\n",
              "      <td>0</td>\n",
              "      <td>255.0</td>\n",
              "      <td>0</td>\n",
              "      <td>10.0</td>\n",
              "    </tr>\n",
              "    <tr>\n",
              "      <th>3</th>\n",
              "      <td>2021-03-01 16:00:00</td>\n",
              "      <td>16</td>\n",
              "      <td>50.0</td>\n",
              "      <td>6.0</td>\n",
              "      <td>105.0</td>\n",
              "      <td>0</td>\n",
              "      <td>0</td>\n",
              "      <td>35.0</td>\n",
              "      <td>0</td>\n",
              "      <td>122.0</td>\n",
              "    </tr>\n",
              "    <tr>\n",
              "      <th>4</th>\n",
              "      <td>2021-03-01 19:30:00</td>\n",
              "      <td>19</td>\n",
              "      <td>110.0</td>\n",
              "      <td>9.0</td>\n",
              "      <td>90.0</td>\n",
              "      <td>200</td>\n",
              "      <td>10</td>\n",
              "      <td>25.0</td>\n",
              "      <td>0</td>\n",
              "      <td>160.0</td>\n",
              "    </tr>\n",
              "    <tr>\n",
              "      <th>...</th>\n",
              "      <td>...</td>\n",
              "      <td>...</td>\n",
              "      <td>...</td>\n",
              "      <td>...</td>\n",
              "      <td>...</td>\n",
              "      <td>...</td>\n",
              "      <td>...</td>\n",
              "      <td>...</td>\n",
              "      <td>...</td>\n",
              "      <td>...</td>\n",
              "    </tr>\n",
              "    <tr>\n",
              "      <th>159</th>\n",
              "      <td>2021-03-31 04:10:00</td>\n",
              "      <td>4</td>\n",
              "      <td>105.0</td>\n",
              "      <td>10.0</td>\n",
              "      <td>490.0</td>\n",
              "      <td>200</td>\n",
              "      <td>500</td>\n",
              "      <td>490.0</td>\n",
              "      <td>490</td>\n",
              "      <td>10.0</td>\n",
              "    </tr>\n",
              "    <tr>\n",
              "      <th>160</th>\n",
              "      <td>2021-03-31 08:45:00</td>\n",
              "      <td>8</td>\n",
              "      <td>30.0</td>\n",
              "      <td>9.0</td>\n",
              "      <td>150.0</td>\n",
              "      <td>80</td>\n",
              "      <td>65</td>\n",
              "      <td>10.0</td>\n",
              "      <td>765</td>\n",
              "      <td>170.0</td>\n",
              "    </tr>\n",
              "    <tr>\n",
              "      <th>161</th>\n",
              "      <td>2021-03-31 12:05:00</td>\n",
              "      <td>12</td>\n",
              "      <td>78.0</td>\n",
              "      <td>9.0</td>\n",
              "      <td>350.0</td>\n",
              "      <td>80</td>\n",
              "      <td>60</td>\n",
              "      <td>210.0</td>\n",
              "      <td>965</td>\n",
              "      <td>172.0</td>\n",
              "    </tr>\n",
              "    <tr>\n",
              "      <th>162</th>\n",
              "      <td>2021-03-31 17:20:00</td>\n",
              "      <td>17</td>\n",
              "      <td>25.0</td>\n",
              "      <td>9.0</td>\n",
              "      <td>665.0</td>\n",
              "      <td>120</td>\n",
              "      <td>140</td>\n",
              "      <td>525.0</td>\n",
              "      <td>1280</td>\n",
              "      <td>235.0</td>\n",
              "    </tr>\n",
              "    <tr>\n",
              "      <th>163</th>\n",
              "      <td>2021-03-31 20:10:00</td>\n",
              "      <td>20</td>\n",
              "      <td>95.0</td>\n",
              "      <td>9.0</td>\n",
              "      <td>835.0</td>\n",
              "      <td>200</td>\n",
              "      <td>15</td>\n",
              "      <td>20.0</td>\n",
              "      <td>115</td>\n",
              "      <td>145.0</td>\n",
              "    </tr>\n",
              "  </tbody>\n",
              "</table>\n",
              "<p>164 rows × 10 columns</p>\n",
              "</div>"
            ],
            "text/plain": [
              "               datetime hour  ...  last_big_before  last_wake_minutes\n",
              "0   2021-03-01 08:20:00    8  ...                0              185.0\n",
              "1   2021-03-01 11:30:00   11  ...                0              140.0\n",
              "2   2021-03-01 12:15:00   12  ...                0               10.0\n",
              "3   2021-03-01 16:00:00   16  ...                0              122.0\n",
              "4   2021-03-01 19:30:00   19  ...                0              160.0\n",
              "..                  ...  ...  ...              ...                ...\n",
              "159 2021-03-31 04:10:00    4  ...              490               10.0\n",
              "160 2021-03-31 08:45:00    8  ...              765              170.0\n",
              "161 2021-03-31 12:05:00   12  ...              965              172.0\n",
              "162 2021-03-31 17:20:00   17  ...             1280              235.0\n",
              "163 2021-03-31 20:10:00   20  ...              115              145.0\n",
              "\n",
              "[164 rows x 10 columns]"
            ]
          },
          "metadata": {
            "tags": []
          },
          "execution_count": 57
        }
      ]
    },
    {
      "cell_type": "code",
      "metadata": {
        "id": "y8gPkn82HtsI"
      },
      "source": [
        "sleep_df.to_csv(f'data/preprocessed/sleep_{target}.tsv', sep='\\t')"
      ],
      "execution_count": 58,
      "outputs": []
    },
    {
      "cell_type": "code",
      "metadata": {
        "colab": {
          "base_uri": "https://localhost:8080/",
          "height": 399
        },
        "id": "wdjazqwEA9Ls",
        "outputId": "4c95bfee-ea56-48a8-a034-4c7c55ccaad7"
      },
      "source": [
        "sleep_daytime_df = sleep_df[sleep_df['hour'].apply(lambda hour: hour >= 6 and hour <= 18)]\n",
        "sleep_daytime_df"
      ],
      "execution_count": 59,
      "outputs": [
        {
          "output_type": "execute_result",
          "data": {
            "text/html": [
              "<div>\n",
              "<style scoped>\n",
              "    .dataframe tbody tr th:only-of-type {\n",
              "        vertical-align: middle;\n",
              "    }\n",
              "\n",
              "    .dataframe tbody tr th {\n",
              "        vertical-align: top;\n",
              "    }\n",
              "\n",
              "    .dataframe thead th {\n",
              "        text-align: right;\n",
              "    }\n",
              "</style>\n",
              "<table border=\"1\" class=\"dataframe\">\n",
              "  <thead>\n",
              "    <tr style=\"text-align: right;\">\n",
              "      <th></th>\n",
              "      <th>datetime</th>\n",
              "      <th>hour</th>\n",
              "      <th>sleep_minutes</th>\n",
              "      <th>last_mothermilk</th>\n",
              "      <th>last_mothermilk_before</th>\n",
              "      <th>last_milk</th>\n",
              "      <th>last_milk_before</th>\n",
              "      <th>last_small_before</th>\n",
              "      <th>last_big_before</th>\n",
              "      <th>last_wake_minutes</th>\n",
              "    </tr>\n",
              "  </thead>\n",
              "  <tbody>\n",
              "    <tr>\n",
              "      <th>0</th>\n",
              "      <td>2021-03-01 08:20:00</td>\n",
              "      <td>8</td>\n",
              "      <td>50.0</td>\n",
              "      <td>6.0</td>\n",
              "      <td>145.0</td>\n",
              "      <td>0</td>\n",
              "      <td>0</td>\n",
              "      <td>20.0</td>\n",
              "      <td>0</td>\n",
              "      <td>185.0</td>\n",
              "    </tr>\n",
              "    <tr>\n",
              "      <th>1</th>\n",
              "      <td>2021-03-01 11:30:00</td>\n",
              "      <td>11</td>\n",
              "      <td>35.0</td>\n",
              "      <td>3.0</td>\n",
              "      <td>85.0</td>\n",
              "      <td>0</td>\n",
              "      <td>0</td>\n",
              "      <td>210.0</td>\n",
              "      <td>0</td>\n",
              "      <td>140.0</td>\n",
              "    </tr>\n",
              "    <tr>\n",
              "      <th>2</th>\n",
              "      <td>2021-03-01 12:15:00</td>\n",
              "      <td>12</td>\n",
              "      <td>103.0</td>\n",
              "      <td>3.0</td>\n",
              "      <td>130.0</td>\n",
              "      <td>0</td>\n",
              "      <td>0</td>\n",
              "      <td>255.0</td>\n",
              "      <td>0</td>\n",
              "      <td>10.0</td>\n",
              "    </tr>\n",
              "    <tr>\n",
              "      <th>3</th>\n",
              "      <td>2021-03-01 16:00:00</td>\n",
              "      <td>16</td>\n",
              "      <td>50.0</td>\n",
              "      <td>6.0</td>\n",
              "      <td>105.0</td>\n",
              "      <td>0</td>\n",
              "      <td>0</td>\n",
              "      <td>35.0</td>\n",
              "      <td>0</td>\n",
              "      <td>122.0</td>\n",
              "    </tr>\n",
              "    <tr>\n",
              "      <th>7</th>\n",
              "      <td>2021-03-02 08:05:00</td>\n",
              "      <td>8</td>\n",
              "      <td>40.0</td>\n",
              "      <td>7.0</td>\n",
              "      <td>130.0</td>\n",
              "      <td>200</td>\n",
              "      <td>765</td>\n",
              "      <td>135.0</td>\n",
              "      <td>640</td>\n",
              "      <td>145.0</td>\n",
              "    </tr>\n",
              "    <tr>\n",
              "      <th>...</th>\n",
              "      <td>...</td>\n",
              "      <td>...</td>\n",
              "      <td>...</td>\n",
              "      <td>...</td>\n",
              "      <td>...</td>\n",
              "      <td>...</td>\n",
              "      <td>...</td>\n",
              "      <td>...</td>\n",
              "      <td>...</td>\n",
              "      <td>...</td>\n",
              "    </tr>\n",
              "    <tr>\n",
              "      <th>156</th>\n",
              "      <td>2021-03-30 13:15:00</td>\n",
              "      <td>13</td>\n",
              "      <td>59.0</td>\n",
              "      <td>10.0</td>\n",
              "      <td>410.0</td>\n",
              "      <td>80</td>\n",
              "      <td>110</td>\n",
              "      <td>100.0</td>\n",
              "      <td>415</td>\n",
              "      <td>125.0</td>\n",
              "    </tr>\n",
              "    <tr>\n",
              "      <th>157</th>\n",
              "      <td>2021-03-30 17:20:00</td>\n",
              "      <td>17</td>\n",
              "      <td>26.0</td>\n",
              "      <td>10.0</td>\n",
              "      <td>655.0</td>\n",
              "      <td>120</td>\n",
              "      <td>145</td>\n",
              "      <td>150.0</td>\n",
              "      <td>660</td>\n",
              "      <td>190.0</td>\n",
              "    </tr>\n",
              "    <tr>\n",
              "      <th>160</th>\n",
              "      <td>2021-03-31 08:45:00</td>\n",
              "      <td>8</td>\n",
              "      <td>30.0</td>\n",
              "      <td>9.0</td>\n",
              "      <td>150.0</td>\n",
              "      <td>80</td>\n",
              "      <td>65</td>\n",
              "      <td>10.0</td>\n",
              "      <td>765</td>\n",
              "      <td>170.0</td>\n",
              "    </tr>\n",
              "    <tr>\n",
              "      <th>161</th>\n",
              "      <td>2021-03-31 12:05:00</td>\n",
              "      <td>12</td>\n",
              "      <td>78.0</td>\n",
              "      <td>9.0</td>\n",
              "      <td>350.0</td>\n",
              "      <td>80</td>\n",
              "      <td>60</td>\n",
              "      <td>210.0</td>\n",
              "      <td>965</td>\n",
              "      <td>172.0</td>\n",
              "    </tr>\n",
              "    <tr>\n",
              "      <th>162</th>\n",
              "      <td>2021-03-31 17:20:00</td>\n",
              "      <td>17</td>\n",
              "      <td>25.0</td>\n",
              "      <td>9.0</td>\n",
              "      <td>665.0</td>\n",
              "      <td>120</td>\n",
              "      <td>140</td>\n",
              "      <td>525.0</td>\n",
              "      <td>1280</td>\n",
              "      <td>235.0</td>\n",
              "    </tr>\n",
              "  </tbody>\n",
              "</table>\n",
              "<p>109 rows × 10 columns</p>\n",
              "</div>"
            ],
            "text/plain": [
              "               datetime hour  ...  last_big_before  last_wake_minutes\n",
              "0   2021-03-01 08:20:00    8  ...                0              185.0\n",
              "1   2021-03-01 11:30:00   11  ...                0              140.0\n",
              "2   2021-03-01 12:15:00   12  ...                0               10.0\n",
              "3   2021-03-01 16:00:00   16  ...                0              122.0\n",
              "7   2021-03-02 08:05:00    8  ...              640              145.0\n",
              "..                  ...  ...  ...              ...                ...\n",
              "156 2021-03-30 13:15:00   13  ...              415              125.0\n",
              "157 2021-03-30 17:20:00   17  ...              660              190.0\n",
              "160 2021-03-31 08:45:00    8  ...              765              170.0\n",
              "161 2021-03-31 12:05:00   12  ...              965              172.0\n",
              "162 2021-03-31 17:20:00   17  ...             1280              235.0\n",
              "\n",
              "[109 rows x 10 columns]"
            ]
          },
          "metadata": {
            "tags": []
          },
          "execution_count": 59
        }
      ]
    },
    {
      "cell_type": "code",
      "metadata": {
        "id": "ce3u9NYgAT0x"
      },
      "source": [
        "sleep_daytime_df.to_csv(f'data/preprocessed/sleep_daytime_{target}.tsv', sep='\\t')"
      ],
      "execution_count": 60,
      "outputs": []
    },
    {
      "cell_type": "code",
      "metadata": {
        "colab": {
          "base_uri": "https://localhost:8080/"
        },
        "id": "BtntpWsqCGH9",
        "outputId": "e5c821d7-58a5-4bc9-86c9-f93d93cec6de"
      },
      "source": [
        "sleep_df['hour'].apply(lambda hour: hour >= 6 and hour <= 18)"
      ],
      "execution_count": 61,
      "outputs": [
        {
          "output_type": "execute_result",
          "data": {
            "text/plain": [
              "0       True\n",
              "1       True\n",
              "2       True\n",
              "3       True\n",
              "4      False\n",
              "       ...  \n",
              "159    False\n",
              "160     True\n",
              "161     True\n",
              "162     True\n",
              "163    False\n",
              "Name: hour, Length: 164, dtype: bool"
            ]
          },
          "metadata": {
            "tags": []
          },
          "execution_count": 61
        }
      ]
    },
    {
      "cell_type": "code",
      "metadata": {
        "id": "u76VM4XbcLQJ"
      },
      "source": [
        ""
      ],
      "execution_count": 61,
      "outputs": []
    }
  ]
}