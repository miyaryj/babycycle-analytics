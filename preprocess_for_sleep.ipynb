{
  "nbformat": 4,
  "nbformat_minor": 0,
  "metadata": {
    "colab": {
      "name": "preprocess_for_sleep.ipynb",
      "provenance": [],
      "collapsed_sections": []
    },
    "kernelspec": {
      "name": "python3",
      "display_name": "Python 3"
    }
  },
  "cells": [
    {
      "cell_type": "code",
      "metadata": {
        "colab": {
          "base_uri": "https://localhost:8080/"
        },
        "id": "ClsyvvMcxDaq",
        "outputId": "d4236df8-ed88-47e6-d7d1-0a112c7c502b"
      },
      "source": [
        "%cd /content/drive/My Drive/Colab Notebooks/"
      ],
      "execution_count": 63,
      "outputs": [
        {
          "output_type": "stream",
          "text": [
            "/content/drive/My Drive/Colab Notebooks\n"
          ],
          "name": "stdout"
        }
      ]
    },
    {
      "cell_type": "code",
      "metadata": {
        "id": "qkjdbo6DxEBw"
      },
      "source": [
        "import pandas as pd\r\n",
        "import datetime"
      ],
      "execution_count": 64,
      "outputs": []
    },
    {
      "cell_type": "code",
      "metadata": {
        "id": "79y2-pHi1FhU"
      },
      "source": [
        "target = '202101tmp'"
      ],
      "execution_count": 65,
      "outputs": []
    },
    {
      "cell_type": "code",
      "metadata": {
        "colab": {
          "base_uri": "https://localhost:8080/",
          "height": 399
        },
        "id": "tkA-RWkwxGfy",
        "outputId": "0788b554-f2d3-4cda-c1e1-33de4a770622"
      },
      "source": [
        "df = pd.read_table(f'data/parsed/{target}.tsv', index_col=0)\n",
        "df"
      ],
      "execution_count": 66,
      "outputs": [
        {
          "output_type": "execute_result",
          "data": {
            "text/html": [
              "<div>\n",
              "<style scoped>\n",
              "    .dataframe tbody tr th:only-of-type {\n",
              "        vertical-align: middle;\n",
              "    }\n",
              "\n",
              "    .dataframe tbody tr th {\n",
              "        vertical-align: top;\n",
              "    }\n",
              "\n",
              "    .dataframe thead th {\n",
              "        text-align: right;\n",
              "    }\n",
              "</style>\n",
              "<table border=\"1\" class=\"dataframe\">\n",
              "  <thead>\n",
              "    <tr style=\"text-align: right;\">\n",
              "      <th></th>\n",
              "      <th>date</th>\n",
              "      <th>time</th>\n",
              "      <th>mothermilk</th>\n",
              "      <th>milk</th>\n",
              "      <th>expressedmilk</th>\n",
              "      <th>small</th>\n",
              "      <th>big</th>\n",
              "      <th>sleep</th>\n",
              "    </tr>\n",
              "  </thead>\n",
              "  <tbody>\n",
              "    <tr>\n",
              "      <th>0</th>\n",
              "      <td>2021-01-01</td>\n",
              "      <td>04:45:00</td>\n",
              "      <td>NaN</td>\n",
              "      <td>NaN</td>\n",
              "      <td>NaN</td>\n",
              "      <td>NaN</td>\n",
              "      <td>NaN</td>\n",
              "      <td>0.0</td>\n",
              "    </tr>\n",
              "    <tr>\n",
              "      <th>1</th>\n",
              "      <td>2021-01-01</td>\n",
              "      <td>04:55:00</td>\n",
              "      <td>NaN</td>\n",
              "      <td>NaN</td>\n",
              "      <td>NaN</td>\n",
              "      <td>NaN</td>\n",
              "      <td>NaN</td>\n",
              "      <td>1.0</td>\n",
              "    </tr>\n",
              "    <tr>\n",
              "      <th>2</th>\n",
              "      <td>2021-01-01</td>\n",
              "      <td>05:02:00</td>\n",
              "      <td>NaN</td>\n",
              "      <td>NaN</td>\n",
              "      <td>NaN</td>\n",
              "      <td>NaN</td>\n",
              "      <td>NaN</td>\n",
              "      <td>0.0</td>\n",
              "    </tr>\n",
              "    <tr>\n",
              "      <th>3</th>\n",
              "      <td>2021-01-01</td>\n",
              "      <td>05:15:00</td>\n",
              "      <td>NaN</td>\n",
              "      <td>NaN</td>\n",
              "      <td>NaN</td>\n",
              "      <td>NaN</td>\n",
              "      <td>NaN</td>\n",
              "      <td>1.0</td>\n",
              "    </tr>\n",
              "    <tr>\n",
              "      <th>4</th>\n",
              "      <td>2021-01-01</td>\n",
              "      <td>05:18:00</td>\n",
              "      <td>NaN</td>\n",
              "      <td>NaN</td>\n",
              "      <td>NaN</td>\n",
              "      <td>NaN</td>\n",
              "      <td>NaN</td>\n",
              "      <td>0.0</td>\n",
              "    </tr>\n",
              "    <tr>\n",
              "      <th>...</th>\n",
              "      <td>...</td>\n",
              "      <td>...</td>\n",
              "      <td>...</td>\n",
              "      <td>...</td>\n",
              "      <td>...</td>\n",
              "      <td>...</td>\n",
              "      <td>...</td>\n",
              "      <td>...</td>\n",
              "    </tr>\n",
              "    <tr>\n",
              "      <th>442</th>\n",
              "      <td>2021-01-15</td>\n",
              "      <td>12:30:00</td>\n",
              "      <td>NaN</td>\n",
              "      <td>NaN</td>\n",
              "      <td>NaN</td>\n",
              "      <td>NaN</td>\n",
              "      <td>1.0</td>\n",
              "      <td>NaN</td>\n",
              "    </tr>\n",
              "    <tr>\n",
              "      <th>443</th>\n",
              "      <td>2021-01-15</td>\n",
              "      <td>13:15:00</td>\n",
              "      <td>11.0</td>\n",
              "      <td>NaN</td>\n",
              "      <td>NaN</td>\n",
              "      <td>NaN</td>\n",
              "      <td>NaN</td>\n",
              "      <td>NaN</td>\n",
              "    </tr>\n",
              "    <tr>\n",
              "      <th>444</th>\n",
              "      <td>2021-01-15</td>\n",
              "      <td>13:15:00</td>\n",
              "      <td>28.0</td>\n",
              "      <td>NaN</td>\n",
              "      <td>NaN</td>\n",
              "      <td>NaN</td>\n",
              "      <td>NaN</td>\n",
              "      <td>NaN</td>\n",
              "    </tr>\n",
              "    <tr>\n",
              "      <th>445</th>\n",
              "      <td>2021-01-15</td>\n",
              "      <td>13:15:00</td>\n",
              "      <td>NaN</td>\n",
              "      <td>NaN</td>\n",
              "      <td>NaN</td>\n",
              "      <td>1.0</td>\n",
              "      <td>NaN</td>\n",
              "      <td>NaN</td>\n",
              "    </tr>\n",
              "    <tr>\n",
              "      <th>446</th>\n",
              "      <td>2021-01-15</td>\n",
              "      <td>13:15:00</td>\n",
              "      <td>NaN</td>\n",
              "      <td>NaN</td>\n",
              "      <td>NaN</td>\n",
              "      <td>NaN</td>\n",
              "      <td>1.0</td>\n",
              "      <td>NaN</td>\n",
              "    </tr>\n",
              "  </tbody>\n",
              "</table>\n",
              "<p>447 rows × 8 columns</p>\n",
              "</div>"
            ],
            "text/plain": [
              "           date      time  mothermilk  milk  expressedmilk  small  big  sleep\n",
              "0    2021-01-01  04:45:00         NaN   NaN            NaN    NaN  NaN    0.0\n",
              "1    2021-01-01  04:55:00         NaN   NaN            NaN    NaN  NaN    1.0\n",
              "2    2021-01-01  05:02:00         NaN   NaN            NaN    NaN  NaN    0.0\n",
              "3    2021-01-01  05:15:00         NaN   NaN            NaN    NaN  NaN    1.0\n",
              "4    2021-01-01  05:18:00         NaN   NaN            NaN    NaN  NaN    0.0\n",
              "..          ...       ...         ...   ...            ...    ...  ...    ...\n",
              "442  2021-01-15  12:30:00         NaN   NaN            NaN    NaN  1.0    NaN\n",
              "443  2021-01-15  13:15:00        11.0   NaN            NaN    NaN  NaN    NaN\n",
              "444  2021-01-15  13:15:00        28.0   NaN            NaN    NaN  NaN    NaN\n",
              "445  2021-01-15  13:15:00         NaN   NaN            NaN    1.0  NaN    NaN\n",
              "446  2021-01-15  13:15:00         NaN   NaN            NaN    NaN  1.0    NaN\n",
              "\n",
              "[447 rows x 8 columns]"
            ]
          },
          "metadata": {
            "tags": []
          },
          "execution_count": 66
        }
      ]
    },
    {
      "cell_type": "markdown",
      "metadata": {
        "id": "XKVicjFx7kGh"
      },
      "source": [
        "datetime indexをセット"
      ]
    },
    {
      "cell_type": "code",
      "metadata": {
        "colab": {
          "base_uri": "https://localhost:8080/",
          "height": 428
        },
        "id": "z-VQTPkyxS_M",
        "outputId": "1d737132-6cc6-46c5-ccb7-0fd0c5878042"
      },
      "source": [
        "df['datetime'] = pd.to_datetime(df['date'] + 'T' + df['time'])\n",
        "df = df.set_index('datetime')\n",
        "df"
      ],
      "execution_count": 67,
      "outputs": [
        {
          "output_type": "execute_result",
          "data": {
            "text/html": [
              "<div>\n",
              "<style scoped>\n",
              "    .dataframe tbody tr th:only-of-type {\n",
              "        vertical-align: middle;\n",
              "    }\n",
              "\n",
              "    .dataframe tbody tr th {\n",
              "        vertical-align: top;\n",
              "    }\n",
              "\n",
              "    .dataframe thead th {\n",
              "        text-align: right;\n",
              "    }\n",
              "</style>\n",
              "<table border=\"1\" class=\"dataframe\">\n",
              "  <thead>\n",
              "    <tr style=\"text-align: right;\">\n",
              "      <th></th>\n",
              "      <th>date</th>\n",
              "      <th>time</th>\n",
              "      <th>mothermilk</th>\n",
              "      <th>milk</th>\n",
              "      <th>expressedmilk</th>\n",
              "      <th>small</th>\n",
              "      <th>big</th>\n",
              "      <th>sleep</th>\n",
              "    </tr>\n",
              "    <tr>\n",
              "      <th>datetime</th>\n",
              "      <th></th>\n",
              "      <th></th>\n",
              "      <th></th>\n",
              "      <th></th>\n",
              "      <th></th>\n",
              "      <th></th>\n",
              "      <th></th>\n",
              "      <th></th>\n",
              "    </tr>\n",
              "  </thead>\n",
              "  <tbody>\n",
              "    <tr>\n",
              "      <th>2021-01-01 04:45:00</th>\n",
              "      <td>2021-01-01</td>\n",
              "      <td>04:45:00</td>\n",
              "      <td>NaN</td>\n",
              "      <td>NaN</td>\n",
              "      <td>NaN</td>\n",
              "      <td>NaN</td>\n",
              "      <td>NaN</td>\n",
              "      <td>0.0</td>\n",
              "    </tr>\n",
              "    <tr>\n",
              "      <th>2021-01-01 04:55:00</th>\n",
              "      <td>2021-01-01</td>\n",
              "      <td>04:55:00</td>\n",
              "      <td>NaN</td>\n",
              "      <td>NaN</td>\n",
              "      <td>NaN</td>\n",
              "      <td>NaN</td>\n",
              "      <td>NaN</td>\n",
              "      <td>1.0</td>\n",
              "    </tr>\n",
              "    <tr>\n",
              "      <th>2021-01-01 05:02:00</th>\n",
              "      <td>2021-01-01</td>\n",
              "      <td>05:02:00</td>\n",
              "      <td>NaN</td>\n",
              "      <td>NaN</td>\n",
              "      <td>NaN</td>\n",
              "      <td>NaN</td>\n",
              "      <td>NaN</td>\n",
              "      <td>0.0</td>\n",
              "    </tr>\n",
              "    <tr>\n",
              "      <th>2021-01-01 05:15:00</th>\n",
              "      <td>2021-01-01</td>\n",
              "      <td>05:15:00</td>\n",
              "      <td>NaN</td>\n",
              "      <td>NaN</td>\n",
              "      <td>NaN</td>\n",
              "      <td>NaN</td>\n",
              "      <td>NaN</td>\n",
              "      <td>1.0</td>\n",
              "    </tr>\n",
              "    <tr>\n",
              "      <th>2021-01-01 05:18:00</th>\n",
              "      <td>2021-01-01</td>\n",
              "      <td>05:18:00</td>\n",
              "      <td>NaN</td>\n",
              "      <td>NaN</td>\n",
              "      <td>NaN</td>\n",
              "      <td>NaN</td>\n",
              "      <td>NaN</td>\n",
              "      <td>0.0</td>\n",
              "    </tr>\n",
              "    <tr>\n",
              "      <th>...</th>\n",
              "      <td>...</td>\n",
              "      <td>...</td>\n",
              "      <td>...</td>\n",
              "      <td>...</td>\n",
              "      <td>...</td>\n",
              "      <td>...</td>\n",
              "      <td>...</td>\n",
              "      <td>...</td>\n",
              "    </tr>\n",
              "    <tr>\n",
              "      <th>2021-01-15 12:30:00</th>\n",
              "      <td>2021-01-15</td>\n",
              "      <td>12:30:00</td>\n",
              "      <td>NaN</td>\n",
              "      <td>NaN</td>\n",
              "      <td>NaN</td>\n",
              "      <td>NaN</td>\n",
              "      <td>1.0</td>\n",
              "      <td>NaN</td>\n",
              "    </tr>\n",
              "    <tr>\n",
              "      <th>2021-01-15 13:15:00</th>\n",
              "      <td>2021-01-15</td>\n",
              "      <td>13:15:00</td>\n",
              "      <td>11.0</td>\n",
              "      <td>NaN</td>\n",
              "      <td>NaN</td>\n",
              "      <td>NaN</td>\n",
              "      <td>NaN</td>\n",
              "      <td>NaN</td>\n",
              "    </tr>\n",
              "    <tr>\n",
              "      <th>2021-01-15 13:15:00</th>\n",
              "      <td>2021-01-15</td>\n",
              "      <td>13:15:00</td>\n",
              "      <td>28.0</td>\n",
              "      <td>NaN</td>\n",
              "      <td>NaN</td>\n",
              "      <td>NaN</td>\n",
              "      <td>NaN</td>\n",
              "      <td>NaN</td>\n",
              "    </tr>\n",
              "    <tr>\n",
              "      <th>2021-01-15 13:15:00</th>\n",
              "      <td>2021-01-15</td>\n",
              "      <td>13:15:00</td>\n",
              "      <td>NaN</td>\n",
              "      <td>NaN</td>\n",
              "      <td>NaN</td>\n",
              "      <td>1.0</td>\n",
              "      <td>NaN</td>\n",
              "      <td>NaN</td>\n",
              "    </tr>\n",
              "    <tr>\n",
              "      <th>2021-01-15 13:15:00</th>\n",
              "      <td>2021-01-15</td>\n",
              "      <td>13:15:00</td>\n",
              "      <td>NaN</td>\n",
              "      <td>NaN</td>\n",
              "      <td>NaN</td>\n",
              "      <td>NaN</td>\n",
              "      <td>1.0</td>\n",
              "      <td>NaN</td>\n",
              "    </tr>\n",
              "  </tbody>\n",
              "</table>\n",
              "<p>447 rows × 8 columns</p>\n",
              "</div>"
            ],
            "text/plain": [
              "                           date      time  mothermilk  ...  small  big  sleep\n",
              "datetime                                               ...                   \n",
              "2021-01-01 04:45:00  2021-01-01  04:45:00         NaN  ...    NaN  NaN    0.0\n",
              "2021-01-01 04:55:00  2021-01-01  04:55:00         NaN  ...    NaN  NaN    1.0\n",
              "2021-01-01 05:02:00  2021-01-01  05:02:00         NaN  ...    NaN  NaN    0.0\n",
              "2021-01-01 05:15:00  2021-01-01  05:15:00         NaN  ...    NaN  NaN    1.0\n",
              "2021-01-01 05:18:00  2021-01-01  05:18:00         NaN  ...    NaN  NaN    0.0\n",
              "...                         ...       ...         ...  ...    ...  ...    ...\n",
              "2021-01-15 12:30:00  2021-01-15  12:30:00         NaN  ...    NaN  1.0    NaN\n",
              "2021-01-15 13:15:00  2021-01-15  13:15:00        11.0  ...    NaN  NaN    NaN\n",
              "2021-01-15 13:15:00  2021-01-15  13:15:00        28.0  ...    NaN  NaN    NaN\n",
              "2021-01-15 13:15:00  2021-01-15  13:15:00         NaN  ...    1.0  NaN    NaN\n",
              "2021-01-15 13:15:00  2021-01-15  13:15:00         NaN  ...    NaN  1.0    NaN\n",
              "\n",
              "[447 rows x 8 columns]"
            ]
          },
          "metadata": {
            "tags": []
          },
          "execution_count": 67
        }
      ]
    },
    {
      "cell_type": "markdown",
      "metadata": {
        "id": "xehDoJLW7rYZ"
      },
      "source": [
        "睡眠時間 (分) をsleep_minutes列にセット"
      ]
    },
    {
      "cell_type": "code",
      "metadata": {
        "colab": {
          "base_uri": "https://localhost:8080/"
        },
        "id": "o5V8UzdQnihe",
        "outputId": "b40a5821-70a1-420e-f13c-f79dd5f2dc75"
      },
      "source": [
        "import numpy as np\n",
        "\n",
        "sleep_series = pd.Series()\n",
        "sleep_in_time = 0\n",
        "df['sleep_minutes'] = np.nan\n",
        "\n",
        "for index, row in df.iterrows():\n",
        "    if row['sleep'] == 1:\n",
        "        sleep_in_time = index\n",
        "    if row['sleep'] == 0 and sleep_in_time is not 0:\n",
        "        delta = index - sleep_in_time\n",
        "        df.loc[sleep_in_time, 'sleep_minutes'] = delta.total_seconds() / 60"
      ],
      "execution_count": 68,
      "outputs": [
        {
          "output_type": "stream",
          "text": [
            "/usr/local/lib/python3.6/dist-packages/ipykernel_launcher.py:3: DeprecationWarning: The default dtype for empty Series will be 'object' instead of 'float64' in a future version. Specify a dtype explicitly to silence this warning.\n",
            "  This is separate from the ipykernel package so we can avoid doing imports until\n"
          ],
          "name": "stderr"
        }
      ]
    },
    {
      "cell_type": "markdown",
      "metadata": {
        "id": "T5tW2oUX-M68"
      },
      "source": [
        "5分間隔のデータに整理"
      ]
    },
    {
      "cell_type": "code",
      "metadata": {
        "id": "w8p0Ptya54rT"
      },
      "source": [
        "df_5min = df.groupby(pd.Grouper(freq='5min')).sum()\r\n",
        "df_5min['sleep_minutes'] = df['sleep_minutes'].groupby(pd.Grouper(freq='5min')).mean()  # 同じ値が同じ時刻のデータすべてに入ってしまっている"
      ],
      "execution_count": 69,
      "outputs": []
    },
    {
      "cell_type": "markdown",
      "metadata": {
        "id": "XhmZEtUD-TBp"
      },
      "source": [
        "1時間ごとに、その時間に入眠した場合にどれくらい(分)眠り続けたかの平均"
      ]
    },
    {
      "cell_type": "code",
      "metadata": {
        "colab": {
          "base_uri": "https://localhost:8080/",
          "height": 644
        },
        "id": "he5_Fqji8R9k",
        "outputId": "5e19f188-5eb3-4615-ec87-3832e6f3922c"
      },
      "source": [
        "by_hour = df_5min.groupby(lambda x: datetime.time(hour=x.hour)).mean()\r\n",
        "by_hour['sleep_minutes'].plot.bar(figsize=(10,10))"
      ],
      "execution_count": 70,
      "outputs": [
        {
          "output_type": "execute_result",
          "data": {
            "text/plain": [
              "<matplotlib.axes._subplots.AxesSubplot at 0x7f80cdee9a58>"
            ]
          },
          "metadata": {
            "tags": []
          },
          "execution_count": 70
        },
        {
          "output_type": "display_data",
          "data": {
            "image/png": "[encoded data removed]",
            "text/plain": [
              "<Figure size 720x720 with 1 Axes>"
            ]
          },
          "metadata": {
            "tags": [],
            "needs_background": "light"
          }
        }
      ]
    },
    {
      "cell_type": "markdown",
      "metadata": {
        "id": "kLX4qbyY7Ig2"
      },
      "source": [
        "分布を確認"
      ]
    },
    {
      "cell_type": "code",
      "metadata": {
        "colab": {
          "base_uri": "https://localhost:8080/"
        },
        "id": "MMeTxAw43xYu",
        "outputId": "578e7b3b-381d-410b-9be2-812b512fb776"
      },
      "source": [
        "df_5min[df_5min['mothermilk'] > 0]['mothermilk'].describe()"
      ],
      "execution_count": 71,
      "outputs": [
        {
          "output_type": "execute_result",
          "data": {
            "text/plain": [
              "count    87.000000\n",
              "mean     13.839080\n",
              "std      12.548393\n",
              "min       4.000000\n",
              "25%       7.000000\n",
              "50%       9.000000\n",
              "75%      11.000000\n",
              "max      44.000000\n",
              "Name: mothermilk, dtype: float64"
            ]
          },
          "metadata": {
            "tags": []
          },
          "execution_count": 71
        }
      ]
    },
    {
      "cell_type": "code",
      "metadata": {
        "colab": {
          "base_uri": "https://localhost:8080/"
        },
        "id": "mYzoxPCR5rXq",
        "outputId": "2b1dabe0-3b4a-456a-df06-a9658ef058ce"
      },
      "source": [
        "df_5min[df_5min['milk'] > 0]['milk'].describe()"
      ],
      "execution_count": 72,
      "outputs": [
        {
          "output_type": "execute_result",
          "data": {
            "text/plain": [
              "count     14.0\n",
              "mean     200.0\n",
              "std        0.0\n",
              "min      200.0\n",
              "25%      200.0\n",
              "50%      200.0\n",
              "75%      200.0\n",
              "max      200.0\n",
              "Name: milk, dtype: float64"
            ]
          },
          "metadata": {
            "tags": []
          },
          "execution_count": 72
        }
      ]
    },
    {
      "cell_type": "code",
      "metadata": {
        "colab": {
          "base_uri": "https://localhost:8080/"
        },
        "id": "WWn3aVE66C8a",
        "outputId": "1ea37d70-3fa1-4b77-93c2-35d2eda41d25"
      },
      "source": [
        "df_5min[df_5min['expressedmilk'] > 0]['expressedmilk'].describe()"
      ],
      "execution_count": 73,
      "outputs": [
        {
          "output_type": "execute_result",
          "data": {
            "text/plain": [
              "count    0.0\n",
              "mean     NaN\n",
              "std      NaN\n",
              "min      NaN\n",
              "25%      NaN\n",
              "50%      NaN\n",
              "75%      NaN\n",
              "max      NaN\n",
              "Name: expressedmilk, dtype: float64"
            ]
          },
          "metadata": {
            "tags": []
          },
          "execution_count": 73
        }
      ]
    },
    {
      "cell_type": "code",
      "metadata": {
        "colab": {
          "base_uri": "https://localhost:8080/"
        },
        "id": "hQtehzGi6IVe",
        "outputId": "1a749fe4-95e2-4cb8-ba1c-b276756004a5"
      },
      "source": [
        "df_5min[df_5min['sleep_minutes'] > 0]['sleep_minutes'].describe()"
      ],
      "execution_count": 74,
      "outputs": [
        {
          "output_type": "execute_result",
          "data": {
            "text/plain": [
              "count     97.000000\n",
              "mean     119.453608\n",
              "std      163.890653\n",
              "min        3.000000\n",
              "25%       30.000000\n",
              "50%       45.000000\n",
              "75%      110.000000\n",
              "max      640.000000\n",
              "Name: sleep_minutes, dtype: float64"
            ]
          },
          "metadata": {
            "tags": []
          },
          "execution_count": 74
        }
      ]
    },
    {
      "cell_type": "markdown",
      "metadata": {
        "id": "n1IA5AC51rW5"
      },
      "source": [
        "ある時刻より前の最後のイベントを取得する関数"
      ]
    },
    {
      "cell_type": "code",
      "metadata": {
        "colab": {
          "base_uri": "https://localhost:8080/"
        },
        "id": "deyfUPzIEjEA",
        "outputId": "a5e3acb3-d0f5-4a2c-98ba-f6dab9df621c"
      },
      "source": [
        "def last_event_by(df, time, column):\r\n",
        "    rows = df[:time][df[:time][column] > 0]\r\n",
        "    if len(rows) == 0:\r\n",
        "        return 0, 0, 0\r\n",
        "    row = rows.iloc[-1]\r\n",
        "    delta = time - row.name\r\n",
        "    return row.name, row[column], delta.total_seconds() / 60\r\n",
        "\r\n",
        "last_event_by(df_5min, pd.to_datetime('2020-10-02 03:00'), 'mothermilk')"
      ],
      "execution_count": 75,
      "outputs": [
        {
          "output_type": "execute_result",
          "data": {
            "text/plain": [
              "(0, 0, 0)"
            ]
          },
          "metadata": {
            "tags": []
          },
          "execution_count": 75
        }
      ]
    },
    {
      "cell_type": "markdown",
      "metadata": {
        "id": "H860k4l91tBN"
      },
      "source": [
        "睡眠時間と、その直前の各種イベントの内容をデータセット化"
      ]
    },
    {
      "cell_type": "code",
      "metadata": {
        "colab": {
          "base_uri": "https://localhost:8080/",
          "height": 399
        },
        "id": "40nFT4_hAruX",
        "outputId": "2ff9a013-7b31-44f1-b918-e0af79c502dd"
      },
      "source": [
        "sleep_df = pd.DataFrame(columns=['datetime', 'hour', 'sleep_minutes', 'last_mothermilk', 'last_mothermilk_before', 'last_milk', 'last_milk_before', 'last_small_before', 'last_big_before'])\r\n",
        "\r\n",
        "for index, row in df_5min.iterrows():\r\n",
        "    if row['sleep_minutes'] > 0:\r\n",
        "        mothermilk_time, mothermilk, mothermilk_before = last_event_by(df_5min, index, 'mothermilk')\r\n",
        "        milk_time, milk, milk_before = last_event_by(df_5min, index, 'milk')\r\n",
        "        small_time, small, small_before = last_event_by(df_5min, index, 'small')\r\n",
        "        big_time, big, big_before = last_event_by(df_5min, index, 'big')\r\n",
        "        sleep_df = sleep_df.append({\r\n",
        "            'datetime': index,\r\n",
        "            'hour': index.hour,\r\n",
        "            'sleep_minutes': row['sleep_minutes'],\r\n",
        "            'last_mothermilk': mothermilk,\r\n",
        "            'last_mothermilk_before': mothermilk_before,\r\n",
        "            'last_milk': milk,\r\n",
        "            'last_milk_before': milk_before,\r\n",
        "            'last_small_before': small_before,\r\n",
        "            'last_big_before': big_before\r\n",
        "        }, ignore_index=True)\r\n",
        "\r\n",
        "sleep_df"
      ],
      "execution_count": 76,
      "outputs": [
        {
          "output_type": "execute_result",
          "data": {
            "text/html": [
              "<div>\n",
              "<style scoped>\n",
              "    .dataframe tbody tr th:only-of-type {\n",
              "        vertical-align: middle;\n",
              "    }\n",
              "\n",
              "    .dataframe tbody tr th {\n",
              "        vertical-align: top;\n",
              "    }\n",
              "\n",
              "    .dataframe thead th {\n",
              "        text-align: right;\n",
              "    }\n",
              "</style>\n",
              "<table border=\"1\" class=\"dataframe\">\n",
              "  <thead>\n",
              "    <tr style=\"text-align: right;\">\n",
              "      <th></th>\n",
              "      <th>datetime</th>\n",
              "      <th>hour</th>\n",
              "      <th>sleep_minutes</th>\n",
              "      <th>last_mothermilk</th>\n",
              "      <th>last_mothermilk_before</th>\n",
              "      <th>last_milk</th>\n",
              "      <th>last_milk_before</th>\n",
              "      <th>last_small_before</th>\n",
              "      <th>last_big_before</th>\n",
              "    </tr>\n",
              "  </thead>\n",
              "  <tbody>\n",
              "    <tr>\n",
              "      <th>0</th>\n",
              "      <td>2021-01-01 04:55:00</td>\n",
              "      <td>4</td>\n",
              "      <td>7.0</td>\n",
              "      <td>0</td>\n",
              "      <td>0</td>\n",
              "      <td>0</td>\n",
              "      <td>0</td>\n",
              "      <td>0</td>\n",
              "      <td>0</td>\n",
              "    </tr>\n",
              "    <tr>\n",
              "      <th>1</th>\n",
              "      <td>2021-01-01 05:15:00</td>\n",
              "      <td>5</td>\n",
              "      <td>3.0</td>\n",
              "      <td>0</td>\n",
              "      <td>0</td>\n",
              "      <td>0</td>\n",
              "      <td>0</td>\n",
              "      <td>0</td>\n",
              "      <td>0</td>\n",
              "    </tr>\n",
              "    <tr>\n",
              "      <th>2</th>\n",
              "      <td>2021-01-01 05:40:00</td>\n",
              "      <td>5</td>\n",
              "      <td>9.0</td>\n",
              "      <td>0</td>\n",
              "      <td>0</td>\n",
              "      <td>0</td>\n",
              "      <td>0</td>\n",
              "      <td>5</td>\n",
              "      <td>0</td>\n",
              "    </tr>\n",
              "    <tr>\n",
              "      <th>3</th>\n",
              "      <td>2021-01-01 06:25:00</td>\n",
              "      <td>6</td>\n",
              "      <td>47.0</td>\n",
              "      <td>0</td>\n",
              "      <td>0</td>\n",
              "      <td>0</td>\n",
              "      <td>0</td>\n",
              "      <td>50</td>\n",
              "      <td>0</td>\n",
              "    </tr>\n",
              "    <tr>\n",
              "      <th>4</th>\n",
              "      <td>2021-01-01 08:30:00</td>\n",
              "      <td>8</td>\n",
              "      <td>50.0</td>\n",
              "      <td>11</td>\n",
              "      <td>75</td>\n",
              "      <td>0</td>\n",
              "      <td>0</td>\n",
              "      <td>10</td>\n",
              "      <td>0</td>\n",
              "    </tr>\n",
              "    <tr>\n",
              "      <th>...</th>\n",
              "      <td>...</td>\n",
              "      <td>...</td>\n",
              "      <td>...</td>\n",
              "      <td>...</td>\n",
              "      <td>...</td>\n",
              "      <td>...</td>\n",
              "      <td>...</td>\n",
              "      <td>...</td>\n",
              "      <td>...</td>\n",
              "    </tr>\n",
              "    <tr>\n",
              "      <th>92</th>\n",
              "      <td>2021-01-14 11:30:00</td>\n",
              "      <td>11</td>\n",
              "      <td>120.0</td>\n",
              "      <td>7</td>\n",
              "      <td>90</td>\n",
              "      <td>200</td>\n",
              "      <td>1000</td>\n",
              "      <td>25</td>\n",
              "      <td>930</td>\n",
              "    </tr>\n",
              "    <tr>\n",
              "      <th>93</th>\n",
              "      <td>2021-01-14 15:15:00</td>\n",
              "      <td>15</td>\n",
              "      <td>40.0</td>\n",
              "      <td>12</td>\n",
              "      <td>95</td>\n",
              "      <td>200</td>\n",
              "      <td>1225</td>\n",
              "      <td>30</td>\n",
              "      <td>1155</td>\n",
              "    </tr>\n",
              "    <tr>\n",
              "      <th>94</th>\n",
              "      <td>2021-01-14 20:05:00</td>\n",
              "      <td>20</td>\n",
              "      <td>640.0</td>\n",
              "      <td>41</td>\n",
              "      <td>0</td>\n",
              "      <td>200</td>\n",
              "      <td>70</td>\n",
              "      <td>0</td>\n",
              "      <td>0</td>\n",
              "    </tr>\n",
              "    <tr>\n",
              "      <th>95</th>\n",
              "      <td>2021-01-15 08:35:00</td>\n",
              "      <td>8</td>\n",
              "      <td>40.0</td>\n",
              "      <td>9</td>\n",
              "      <td>95</td>\n",
              "      <td>200</td>\n",
              "      <td>820</td>\n",
              "      <td>100</td>\n",
              "      <td>750</td>\n",
              "    </tr>\n",
              "    <tr>\n",
              "      <th>96</th>\n",
              "      <td>2021-01-15 11:00:00</td>\n",
              "      <td>11</td>\n",
              "      <td>90.0</td>\n",
              "      <td>8</td>\n",
              "      <td>60</td>\n",
              "      <td>200</td>\n",
              "      <td>965</td>\n",
              "      <td>95</td>\n",
              "      <td>895</td>\n",
              "    </tr>\n",
              "  </tbody>\n",
              "</table>\n",
              "<p>97 rows × 9 columns</p>\n",
              "</div>"
            ],
            "text/plain": [
              "              datetime hour  ...  last_small_before last_big_before\n",
              "0  2021-01-01 04:55:00    4  ...                  0               0\n",
              "1  2021-01-01 05:15:00    5  ...                  0               0\n",
              "2  2021-01-01 05:40:00    5  ...                  5               0\n",
              "3  2021-01-01 06:25:00    6  ...                 50               0\n",
              "4  2021-01-01 08:30:00    8  ...                 10               0\n",
              "..                 ...  ...  ...                ...             ...\n",
              "92 2021-01-14 11:30:00   11  ...                 25             930\n",
              "93 2021-01-14 15:15:00   15  ...                 30            1155\n",
              "94 2021-01-14 20:05:00   20  ...                  0               0\n",
              "95 2021-01-15 08:35:00    8  ...                100             750\n",
              "96 2021-01-15 11:00:00   11  ...                 95             895\n",
              "\n",
              "[97 rows x 9 columns]"
            ]
          },
          "metadata": {
            "tags": []
          },
          "execution_count": 76
        }
      ]
    },
    {
      "cell_type": "code",
      "metadata": {
        "id": "y8gPkn82HtsI"
      },
      "source": [
        "sleep_df.to_csv(f'data/preprocessed/sleep_{target}.tsv', sep='\\t')"
      ],
      "execution_count": 77,
      "outputs": []
    },
    {
      "cell_type": "code",
      "metadata": {
        "id": "AJcxHyU-19AV"
      },
      "source": [
        ""
      ],
      "execution_count": 77,
      "outputs": []
    }
  ]
}