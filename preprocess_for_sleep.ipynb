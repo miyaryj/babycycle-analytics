{
  "nbformat": 4,
  "nbformat_minor": 0,
  "metadata": {
    "colab": {
      "name": "preprocess_for_sleep.ipynb",
      "provenance": [],
      "collapsed_sections": []
    },
    "kernelspec": {
      "name": "python3",
      "display_name": "Python 3"
    }
  },
  "cells": [
    {
      "cell_type": "code",
      "metadata": {
        "colab": {
          "base_uri": "https://localhost:8080/"
        },
        "id": "ClsyvvMcxDaq",
        "outputId": "90095bc2-702c-4e98-af40-4f84741bd99d"
      },
      "source": [
        "%cd /content/drive/My Drive/Colab Notebooks/"
      ],
      "execution_count": 163,
      "outputs": [
        {
          "output_type": "stream",
          "text": [
            "/content/drive/My Drive/Colab Notebooks\n"
          ],
          "name": "stdout"
        }
      ]
    },
    {
      "cell_type": "code",
      "metadata": {
        "id": "qkjdbo6DxEBw"
      },
      "source": [
        "import pandas as pd"
      ],
      "execution_count": 164,
      "outputs": []
    },
    {
      "cell_type": "code",
      "metadata": {
        "id": "79y2-pHi1FhU"
      },
      "source": [
        "target = '202010'"
      ],
      "execution_count": 165,
      "outputs": []
    },
    {
      "cell_type": "code",
      "metadata": {
        "colab": {
          "base_uri": "https://localhost:8080/",
          "height": 399
        },
        "id": "tkA-RWkwxGfy",
        "outputId": "95aa6c5a-61ae-410e-fc2d-1c323f83d3e3"
      },
      "source": [
        "df = pd.read_table(f'data/parsed/{target}.tsv', index_col=0)\n",
        "df"
      ],
      "execution_count": 166,
      "outputs": [
        {
          "output_type": "execute_result",
          "data": {
            "text/html": [
              "<div>\n",
              "<style scoped>\n",
              "    .dataframe tbody tr th:only-of-type {\n",
              "        vertical-align: middle;\n",
              "    }\n",
              "\n",
              "    .dataframe tbody tr th {\n",
              "        vertical-align: top;\n",
              "    }\n",
              "\n",
              "    .dataframe thead th {\n",
              "        text-align: right;\n",
              "    }\n",
              "</style>\n",
              "<table border=\"1\" class=\"dataframe\">\n",
              "  <thead>\n",
              "    <tr style=\"text-align: right;\">\n",
              "      <th></th>\n",
              "      <th>date</th>\n",
              "      <th>time</th>\n",
              "      <th>mothermilk</th>\n",
              "      <th>milk</th>\n",
              "      <th>expressedmilk</th>\n",
              "      <th>small</th>\n",
              "      <th>big</th>\n",
              "      <th>sleep</th>\n",
              "    </tr>\n",
              "  </thead>\n",
              "  <tbody>\n",
              "    <tr>\n",
              "      <th>0</th>\n",
              "      <td>2020-10-01</td>\n",
              "      <td>01:00:00</td>\n",
              "      <td>11.0</td>\n",
              "      <td>NaN</td>\n",
              "      <td>NaN</td>\n",
              "      <td>NaN</td>\n",
              "      <td>NaN</td>\n",
              "      <td>NaN</td>\n",
              "    </tr>\n",
              "    <tr>\n",
              "      <th>1</th>\n",
              "      <td>2020-10-01</td>\n",
              "      <td>03:10:00</td>\n",
              "      <td>30.0</td>\n",
              "      <td>NaN</td>\n",
              "      <td>NaN</td>\n",
              "      <td>NaN</td>\n",
              "      <td>NaN</td>\n",
              "      <td>NaN</td>\n",
              "    </tr>\n",
              "    <tr>\n",
              "      <th>2</th>\n",
              "      <td>2020-10-01</td>\n",
              "      <td>06:45:00</td>\n",
              "      <td>NaN</td>\n",
              "      <td>NaN</td>\n",
              "      <td>NaN</td>\n",
              "      <td>NaN</td>\n",
              "      <td>NaN</td>\n",
              "      <td>0.0</td>\n",
              "    </tr>\n",
              "    <tr>\n",
              "      <th>3</th>\n",
              "      <td>2020-10-01</td>\n",
              "      <td>06:45:00</td>\n",
              "      <td>NaN</td>\n",
              "      <td>NaN</td>\n",
              "      <td>NaN</td>\n",
              "      <td>1.0</td>\n",
              "      <td>NaN</td>\n",
              "      <td>NaN</td>\n",
              "    </tr>\n",
              "    <tr>\n",
              "      <th>4</th>\n",
              "      <td>2020-10-01</td>\n",
              "      <td>06:45:00</td>\n",
              "      <td>23.0</td>\n",
              "      <td>NaN</td>\n",
              "      <td>NaN</td>\n",
              "      <td>NaN</td>\n",
              "      <td>NaN</td>\n",
              "      <td>NaN</td>\n",
              "    </tr>\n",
              "    <tr>\n",
              "      <th>...</th>\n",
              "      <td>...</td>\n",
              "      <td>...</td>\n",
              "      <td>...</td>\n",
              "      <td>...</td>\n",
              "      <td>...</td>\n",
              "      <td>...</td>\n",
              "      <td>...</td>\n",
              "      <td>...</td>\n",
              "    </tr>\n",
              "    <tr>\n",
              "      <th>1273</th>\n",
              "      <td>2020-10-31</td>\n",
              "      <td>23:15:00</td>\n",
              "      <td>NaN</td>\n",
              "      <td>NaN</td>\n",
              "      <td>NaN</td>\n",
              "      <td>1.0</td>\n",
              "      <td>NaN</td>\n",
              "      <td>NaN</td>\n",
              "    </tr>\n",
              "    <tr>\n",
              "      <th>1274</th>\n",
              "      <td>2020-10-31</td>\n",
              "      <td>23:40:00</td>\n",
              "      <td>NaN</td>\n",
              "      <td>NaN</td>\n",
              "      <td>NaN</td>\n",
              "      <td>NaN</td>\n",
              "      <td>NaN</td>\n",
              "      <td>1.0</td>\n",
              "    </tr>\n",
              "    <tr>\n",
              "      <th>1275</th>\n",
              "      <td>2020-10-31</td>\n",
              "      <td>23:40:00</td>\n",
              "      <td>230.0</td>\n",
              "      <td>NaN</td>\n",
              "      <td>NaN</td>\n",
              "      <td>NaN</td>\n",
              "      <td>NaN</td>\n",
              "      <td>NaN</td>\n",
              "    </tr>\n",
              "    <tr>\n",
              "      <th>1276</th>\n",
              "      <td>2020-10-31</td>\n",
              "      <td>23:40:00</td>\n",
              "      <td>NaN</td>\n",
              "      <td>NaN</td>\n",
              "      <td>NaN</td>\n",
              "      <td>1.0</td>\n",
              "      <td>NaN</td>\n",
              "      <td>NaN</td>\n",
              "    </tr>\n",
              "    <tr>\n",
              "      <th>1277</th>\n",
              "      <td>2020-10-31</td>\n",
              "      <td>23:40:00</td>\n",
              "      <td>NaN</td>\n",
              "      <td>NaN</td>\n",
              "      <td>NaN</td>\n",
              "      <td>NaN</td>\n",
              "      <td>1.0</td>\n",
              "      <td>NaN</td>\n",
              "    </tr>\n",
              "  </tbody>\n",
              "</table>\n",
              "<p>1278 rows × 8 columns</p>\n",
              "</div>"
            ],
            "text/plain": [
              "            date      time  mothermilk  milk  expressedmilk  small  big  sleep\n",
              "0     2020-10-01  01:00:00        11.0   NaN            NaN    NaN  NaN    NaN\n",
              "1     2020-10-01  03:10:00        30.0   NaN            NaN    NaN  NaN    NaN\n",
              "2     2020-10-01  06:45:00         NaN   NaN            NaN    NaN  NaN    0.0\n",
              "3     2020-10-01  06:45:00         NaN   NaN            NaN    1.0  NaN    NaN\n",
              "4     2020-10-01  06:45:00        23.0   NaN            NaN    NaN  NaN    NaN\n",
              "...          ...       ...         ...   ...            ...    ...  ...    ...\n",
              "1273  2020-10-31  23:15:00         NaN   NaN            NaN    1.0  NaN    NaN\n",
              "1274  2020-10-31  23:40:00         NaN   NaN            NaN    NaN  NaN    1.0\n",
              "1275  2020-10-31  23:40:00       230.0   NaN            NaN    NaN  NaN    NaN\n",
              "1276  2020-10-31  23:40:00         NaN   NaN            NaN    1.0  NaN    NaN\n",
              "1277  2020-10-31  23:40:00         NaN   NaN            NaN    NaN  1.0    NaN\n",
              "\n",
              "[1278 rows x 8 columns]"
            ]
          },
          "metadata": {
            "tags": []
          },
          "execution_count": 166
        }
      ]
    },
    {
      "cell_type": "markdown",
      "metadata": {
        "id": "XKVicjFx7kGh"
      },
      "source": [
        "datetime indexをセット"
      ]
    },
    {
      "cell_type": "code",
      "metadata": {
        "colab": {
          "base_uri": "https://localhost:8080/",
          "height": 428
        },
        "id": "z-VQTPkyxS_M",
        "outputId": "8e526381-1ed2-4bad-ca78-0b0392f458f1"
      },
      "source": [
        "df['datetime'] = pd.to_datetime(df['date'] + 'T' + df['time'])\n",
        "df = df.set_index('datetime')\n",
        "df"
      ],
      "execution_count": 167,
      "outputs": [
        {
          "output_type": "execute_result",
          "data": {
            "text/html": [
              "<div>\n",
              "<style scoped>\n",
              "    .dataframe tbody tr th:only-of-type {\n",
              "        vertical-align: middle;\n",
              "    }\n",
              "\n",
              "    .dataframe tbody tr th {\n",
              "        vertical-align: top;\n",
              "    }\n",
              "\n",
              "    .dataframe thead th {\n",
              "        text-align: right;\n",
              "    }\n",
              "</style>\n",
              "<table border=\"1\" class=\"dataframe\">\n",
              "  <thead>\n",
              "    <tr style=\"text-align: right;\">\n",
              "      <th></th>\n",
              "      <th>date</th>\n",
              "      <th>time</th>\n",
              "      <th>mothermilk</th>\n",
              "      <th>milk</th>\n",
              "      <th>expressedmilk</th>\n",
              "      <th>small</th>\n",
              "      <th>big</th>\n",
              "      <th>sleep</th>\n",
              "    </tr>\n",
              "    <tr>\n",
              "      <th>datetime</th>\n",
              "      <th></th>\n",
              "      <th></th>\n",
              "      <th></th>\n",
              "      <th></th>\n",
              "      <th></th>\n",
              "      <th></th>\n",
              "      <th></th>\n",
              "      <th></th>\n",
              "    </tr>\n",
              "  </thead>\n",
              "  <tbody>\n",
              "    <tr>\n",
              "      <th>2020-10-01 01:00:00</th>\n",
              "      <td>2020-10-01</td>\n",
              "      <td>01:00:00</td>\n",
              "      <td>11.0</td>\n",
              "      <td>NaN</td>\n",
              "      <td>NaN</td>\n",
              "      <td>NaN</td>\n",
              "      <td>NaN</td>\n",
              "      <td>NaN</td>\n",
              "    </tr>\n",
              "    <tr>\n",
              "      <th>2020-10-01 03:10:00</th>\n",
              "      <td>2020-10-01</td>\n",
              "      <td>03:10:00</td>\n",
              "      <td>30.0</td>\n",
              "      <td>NaN</td>\n",
              "      <td>NaN</td>\n",
              "      <td>NaN</td>\n",
              "      <td>NaN</td>\n",
              "      <td>NaN</td>\n",
              "    </tr>\n",
              "    <tr>\n",
              "      <th>2020-10-01 06:45:00</th>\n",
              "      <td>2020-10-01</td>\n",
              "      <td>06:45:00</td>\n",
              "      <td>NaN</td>\n",
              "      <td>NaN</td>\n",
              "      <td>NaN</td>\n",
              "      <td>NaN</td>\n",
              "      <td>NaN</td>\n",
              "      <td>0.0</td>\n",
              "    </tr>\n",
              "    <tr>\n",
              "      <th>2020-10-01 06:45:00</th>\n",
              "      <td>2020-10-01</td>\n",
              "      <td>06:45:00</td>\n",
              "      <td>NaN</td>\n",
              "      <td>NaN</td>\n",
              "      <td>NaN</td>\n",
              "      <td>1.0</td>\n",
              "      <td>NaN</td>\n",
              "      <td>NaN</td>\n",
              "    </tr>\n",
              "    <tr>\n",
              "      <th>2020-10-01 06:45:00</th>\n",
              "      <td>2020-10-01</td>\n",
              "      <td>06:45:00</td>\n",
              "      <td>23.0</td>\n",
              "      <td>NaN</td>\n",
              "      <td>NaN</td>\n",
              "      <td>NaN</td>\n",
              "      <td>NaN</td>\n",
              "      <td>NaN</td>\n",
              "    </tr>\n",
              "    <tr>\n",
              "      <th>...</th>\n",
              "      <td>...</td>\n",
              "      <td>...</td>\n",
              "      <td>...</td>\n",
              "      <td>...</td>\n",
              "      <td>...</td>\n",
              "      <td>...</td>\n",
              "      <td>...</td>\n",
              "      <td>...</td>\n",
              "    </tr>\n",
              "    <tr>\n",
              "      <th>2020-10-31 23:15:00</th>\n",
              "      <td>2020-10-31</td>\n",
              "      <td>23:15:00</td>\n",
              "      <td>NaN</td>\n",
              "      <td>NaN</td>\n",
              "      <td>NaN</td>\n",
              "      <td>1.0</td>\n",
              "      <td>NaN</td>\n",
              "      <td>NaN</td>\n",
              "    </tr>\n",
              "    <tr>\n",
              "      <th>2020-10-31 23:40:00</th>\n",
              "      <td>2020-10-31</td>\n",
              "      <td>23:40:00</td>\n",
              "      <td>NaN</td>\n",
              "      <td>NaN</td>\n",
              "      <td>NaN</td>\n",
              "      <td>NaN</td>\n",
              "      <td>NaN</td>\n",
              "      <td>1.0</td>\n",
              "    </tr>\n",
              "    <tr>\n",
              "      <th>2020-10-31 23:40:00</th>\n",
              "      <td>2020-10-31</td>\n",
              "      <td>23:40:00</td>\n",
              "      <td>230.0</td>\n",
              "      <td>NaN</td>\n",
              "      <td>NaN</td>\n",
              "      <td>NaN</td>\n",
              "      <td>NaN</td>\n",
              "      <td>NaN</td>\n",
              "    </tr>\n",
              "    <tr>\n",
              "      <th>2020-10-31 23:40:00</th>\n",
              "      <td>2020-10-31</td>\n",
              "      <td>23:40:00</td>\n",
              "      <td>NaN</td>\n",
              "      <td>NaN</td>\n",
              "      <td>NaN</td>\n",
              "      <td>1.0</td>\n",
              "      <td>NaN</td>\n",
              "      <td>NaN</td>\n",
              "    </tr>\n",
              "    <tr>\n",
              "      <th>2020-10-31 23:40:00</th>\n",
              "      <td>2020-10-31</td>\n",
              "      <td>23:40:00</td>\n",
              "      <td>NaN</td>\n",
              "      <td>NaN</td>\n",
              "      <td>NaN</td>\n",
              "      <td>NaN</td>\n",
              "      <td>1.0</td>\n",
              "      <td>NaN</td>\n",
              "    </tr>\n",
              "  </tbody>\n",
              "</table>\n",
              "<p>1278 rows × 8 columns</p>\n",
              "</div>"
            ],
            "text/plain": [
              "                           date      time  mothermilk  ...  small  big  sleep\n",
              "datetime                                               ...                   \n",
              "2020-10-01 01:00:00  2020-10-01  01:00:00        11.0  ...    NaN  NaN    NaN\n",
              "2020-10-01 03:10:00  2020-10-01  03:10:00        30.0  ...    NaN  NaN    NaN\n",
              "2020-10-01 06:45:00  2020-10-01  06:45:00         NaN  ...    NaN  NaN    0.0\n",
              "2020-10-01 06:45:00  2020-10-01  06:45:00         NaN  ...    1.0  NaN    NaN\n",
              "2020-10-01 06:45:00  2020-10-01  06:45:00        23.0  ...    NaN  NaN    NaN\n",
              "...                         ...       ...         ...  ...    ...  ...    ...\n",
              "2020-10-31 23:15:00  2020-10-31  23:15:00         NaN  ...    1.0  NaN    NaN\n",
              "2020-10-31 23:40:00  2020-10-31  23:40:00         NaN  ...    NaN  NaN    1.0\n",
              "2020-10-31 23:40:00  2020-10-31  23:40:00       230.0  ...    NaN  NaN    NaN\n",
              "2020-10-31 23:40:00  2020-10-31  23:40:00         NaN  ...    1.0  NaN    NaN\n",
              "2020-10-31 23:40:00  2020-10-31  23:40:00         NaN  ...    NaN  1.0    NaN\n",
              "\n",
              "[1278 rows x 8 columns]"
            ]
          },
          "metadata": {
            "tags": []
          },
          "execution_count": 167
        }
      ]
    },
    {
      "cell_type": "markdown",
      "metadata": {
        "id": "xehDoJLW7rYZ"
      },
      "source": [
        "睡眠時間 (分) をsleep_minutes列にセット"
      ]
    },
    {
      "cell_type": "code",
      "metadata": {
        "colab": {
          "base_uri": "https://localhost:8080/"
        },
        "id": "o5V8UzdQnihe",
        "outputId": "354b7e96-82a9-43a3-8454-eaf8c53ff68d"
      },
      "source": [
        "import numpy as np\n",
        "\n",
        "sleep_series = pd.Series()\n",
        "sleep_in_time = 0\n",
        "df['sleep_minutes'] = np.nan\n",
        "\n",
        "for index, row in df.iterrows():\n",
        "    if row['sleep'] == 1:\n",
        "        sleep_in_time = index\n",
        "    if row['sleep'] == 0 and sleep_in_time is not 0:\n",
        "        delta = index - sleep_in_time\n",
        "        df.loc[sleep_in_time, 'sleep_minutes'] = delta.total_seconds() / 60"
      ],
      "execution_count": 168,
      "outputs": [
        {
          "output_type": "stream",
          "text": [
            "/usr/local/lib/python3.6/dist-packages/ipykernel_launcher.py:3: DeprecationWarning: The default dtype for empty Series will be 'object' instead of 'float64' in a future version. Specify a dtype explicitly to silence this warning.\n",
            "  This is separate from the ipykernel package so we can avoid doing imports until\n"
          ],
          "name": "stderr"
        }
      ]
    },
    {
      "cell_type": "markdown",
      "metadata": {
        "id": "T5tW2oUX-M68"
      },
      "source": [
        "5分間隔のデータに整理"
      ]
    },
    {
      "cell_type": "code",
      "metadata": {
        "id": "w8p0Ptya54rT"
      },
      "source": [
        "df_5min = df.groupby(pd.Grouper(freq='5min')).sum()\r\n",
        "df_5min['sleep_minutes'] = df['sleep_minutes'].groupby(pd.Grouper(freq='5min')).mean()  # 同じ値が同じ時刻のデータすべてに入ってしまっている"
      ],
      "execution_count": 169,
      "outputs": []
    },
    {
      "cell_type": "markdown",
      "metadata": {
        "id": "XhmZEtUD-TBp"
      },
      "source": [
        "1時間ごとに、その時間に入眠した場合にどれくらい(分)眠り続けたかの平均"
      ]
    },
    {
      "cell_type": "code",
      "metadata": {
        "colab": {
          "base_uri": "https://localhost:8080/",
          "height": 644
        },
        "id": "he5_Fqji8R9k",
        "outputId": "1d040cf6-c87a-4d84-87ed-fb7dab40139a"
      },
      "source": [
        "by_hour = df_5min.groupby(lambda x: datetime.time(hour=x.hour)).mean()\r\n",
        "by_hour['sleep_minutes'].plot.bar(figsize=(10,10))"
      ],
      "execution_count": 170,
      "outputs": [
        {
          "output_type": "execute_result",
          "data": {
            "text/plain": [
              "<matplotlib.axes._subplots.AxesSubplot at 0x7f9fc981b208>"
            ]
          },
          "metadata": {
            "tags": []
          },
          "execution_count": 170
        },
        {
          "output_type": "display_data",
          "data": {
            "image/png": "[encoded data removed]",
            "text/plain": [
              "<Figure size 720x720 with 1 Axes>"
            ]
          },
          "metadata": {
            "tags": [],
            "needs_background": "light"
          }
        }
      ]
    },
    {
      "cell_type": "markdown",
      "metadata": {
        "id": "kLX4qbyY7Ig2"
      },
      "source": [
        "分布を確認"
      ]
    },
    {
      "cell_type": "code",
      "metadata": {
        "colab": {
          "base_uri": "https://localhost:8080/"
        },
        "id": "MMeTxAw43xYu",
        "outputId": "e74bcd13-93aa-4df2-e2da-b2b808342676"
      },
      "source": [
        "df_5min[df_5min['mothermilk'] > 0]['mothermilk'].describe()"
      ],
      "execution_count": 171,
      "outputs": [
        {
          "output_type": "execute_result",
          "data": {
            "text/plain": [
              "count    368.000000\n",
              "mean      39.331522\n",
              "std       66.304753\n",
              "min        3.000000\n",
              "25%       12.000000\n",
              "50%       17.000000\n",
              "75%       27.000000\n",
              "max      462.000000\n",
              "Name: mothermilk, dtype: float64"
            ]
          },
          "metadata": {
            "tags": []
          },
          "execution_count": 171
        }
      ]
    },
    {
      "cell_type": "code",
      "metadata": {
        "colab": {
          "base_uri": "https://localhost:8080/"
        },
        "id": "mYzoxPCR5rXq",
        "outputId": "352359e6-7a98-4770-b9e0-d59bfb2ea550"
      },
      "source": [
        "df_5min[df_5min['milk'] > 0]['milk'].describe()"
      ],
      "execution_count": 172,
      "outputs": [
        {
          "output_type": "execute_result",
          "data": {
            "text/plain": [
              "count     33.000000\n",
              "mean      98.484848\n",
              "std       28.627043\n",
              "min       50.000000\n",
              "25%      100.000000\n",
              "50%      100.000000\n",
              "75%      120.000000\n",
              "max      200.000000\n",
              "Name: milk, dtype: float64"
            ]
          },
          "metadata": {
            "tags": []
          },
          "execution_count": 172
        }
      ]
    },
    {
      "cell_type": "code",
      "metadata": {
        "colab": {
          "base_uri": "https://localhost:8080/"
        },
        "id": "WWn3aVE66C8a",
        "outputId": "086ab408-3ac8-4aa8-e8da-b5ac7f917ee8"
      },
      "source": [
        "df_5min[df_5min['expressedmilk'] > 0]['expressedmilk'].describe()"
      ],
      "execution_count": 173,
      "outputs": [
        {
          "output_type": "execute_result",
          "data": {
            "text/plain": [
              "count      3.000000\n",
              "mean      73.333333\n",
              "std       25.166115\n",
              "min       50.000000\n",
              "25%       60.000000\n",
              "50%       70.000000\n",
              "75%       85.000000\n",
              "max      100.000000\n",
              "Name: expressedmilk, dtype: float64"
            ]
          },
          "metadata": {
            "tags": []
          },
          "execution_count": 173
        }
      ]
    },
    {
      "cell_type": "code",
      "metadata": {
        "colab": {
          "base_uri": "https://localhost:8080/"
        },
        "id": "hQtehzGi6IVe",
        "outputId": "bd81cc9e-d395-4c8e-8d77-eea5b3953021"
      },
      "source": [
        "df_5min[df_5min['sleep_minutes'] > 0]['sleep_minutes'].describe()"
      ],
      "execution_count": 174,
      "outputs": [
        {
          "output_type": "execute_result",
          "data": {
            "text/plain": [
              "count    276.000000\n",
              "mean      83.615942\n",
              "std       67.067274\n",
              "min        5.000000\n",
              "25%       30.000000\n",
              "50%       65.000000\n",
              "75%      125.000000\n",
              "max      475.000000\n",
              "Name: sleep_minutes, dtype: float64"
            ]
          },
          "metadata": {
            "tags": []
          },
          "execution_count": 174
        }
      ]
    },
    {
      "cell_type": "markdown",
      "metadata": {
        "id": "n1IA5AC51rW5"
      },
      "source": [
        "ある時刻より前の最後のイベントを取得する関数"
      ]
    },
    {
      "cell_type": "code",
      "metadata": {
        "colab": {
          "base_uri": "https://localhost:8080/"
        },
        "id": "deyfUPzIEjEA",
        "outputId": "cdc87a39-6fda-4147-807f-a52cbdc61fea"
      },
      "source": [
        "def last_event_by(df, time, column):\r\n",
        "    rows = df[:time][df[:time][column] > 0]\r\n",
        "    if len(rows) == 0:\r\n",
        "        return 0, 0, 0\r\n",
        "    row = rows.iloc[-1]\r\n",
        "    delta = time - row.name\r\n",
        "    return row.name, row[column], delta.total_seconds() / 60\r\n",
        "\r\n",
        "last_event_by(df_5min, pd.to_datetime('2020-10-02 03:00'), 'mothermilk')"
      ],
      "execution_count": 175,
      "outputs": [
        {
          "output_type": "execute_result",
          "data": {
            "text/plain": [
              "(Timestamp('2020-10-02 02:30:00'), 20.0, 30.0)"
            ]
          },
          "metadata": {
            "tags": []
          },
          "execution_count": 175
        }
      ]
    },
    {
      "cell_type": "markdown",
      "metadata": {
        "id": "H860k4l91tBN"
      },
      "source": [
        "睡眠時間と、その直前の各種イベントの内容をデータセット化"
      ]
    },
    {
      "cell_type": "code",
      "metadata": {
        "colab": {
          "base_uri": "https://localhost:8080/",
          "height": 399
        },
        "id": "40nFT4_hAruX",
        "outputId": "401b4314-a617-40e9-ef83-9939524820d7"
      },
      "source": [
        "sleep_df = pd.DataFrame(columns=['datetime', 'hour', 'sleep_minutes', 'last_mothermilk', 'last_mothermilk_before', 'last_milk', 'last_milk_before', 'last_small_before', 'last_big_before'])\r\n",
        "\r\n",
        "for index, row in df_5min.iterrows():\r\n",
        "    if row['sleep_minutes'] > 0:\r\n",
        "        mothermilk_time, mothermilk, mothermilk_before = last_event_by(df_5min, index, 'mothermilk')\r\n",
        "        milk_time, milk, milk_before = last_event_by(df_5min, index, 'milk')\r\n",
        "        small_time, small, small_before = last_event_by(df_5min, index, 'small')\r\n",
        "        big_time, big, big_before = last_event_by(df_5min, index, 'big')\r\n",
        "        sleep_df = sleep_df.append({\r\n",
        "            'datetime': index,\r\n",
        "            'hour': index.hour,\r\n",
        "            'sleep_minutes': row['sleep_minutes'],\r\n",
        "            'last_mothermilk': mothermilk,\r\n",
        "            'last_mothermilk_before': mothermilk_before,\r\n",
        "            'last_milk': milk,\r\n",
        "            'last_milk_before': milk_before,\r\n",
        "            'last_small_before': small_before,\r\n",
        "            'last_big_before': big_before\r\n",
        "        }, ignore_index=True)\r\n",
        "\r\n",
        "sleep_df"
      ],
      "execution_count": 176,
      "outputs": [
        {
          "output_type": "execute_result",
          "data": {
            "text/html": [
              "<div>\n",
              "<style scoped>\n",
              "    .dataframe tbody tr th:only-of-type {\n",
              "        vertical-align: middle;\n",
              "    }\n",
              "\n",
              "    .dataframe tbody tr th {\n",
              "        vertical-align: top;\n",
              "    }\n",
              "\n",
              "    .dataframe thead th {\n",
              "        text-align: right;\n",
              "    }\n",
              "</style>\n",
              "<table border=\"1\" class=\"dataframe\">\n",
              "  <thead>\n",
              "    <tr style=\"text-align: right;\">\n",
              "      <th></th>\n",
              "      <th>datetime</th>\n",
              "      <th>hour</th>\n",
              "      <th>sleep_minutes</th>\n",
              "      <th>last_mothermilk</th>\n",
              "      <th>last_mothermilk_before</th>\n",
              "      <th>last_milk</th>\n",
              "      <th>last_milk_before</th>\n",
              "      <th>last_small_before</th>\n",
              "      <th>last_big_before</th>\n",
              "    </tr>\n",
              "  </thead>\n",
              "  <tbody>\n",
              "    <tr>\n",
              "      <th>0</th>\n",
              "      <td>2020-10-01 08:55:00</td>\n",
              "      <td>8</td>\n",
              "      <td>25.0</td>\n",
              "      <td>9.0</td>\n",
              "      <td>10.0</td>\n",
              "      <td>0</td>\n",
              "      <td>0</td>\n",
              "      <td>65.0</td>\n",
              "      <td>65.0</td>\n",
              "    </tr>\n",
              "    <tr>\n",
              "      <th>1</th>\n",
              "      <td>2020-10-01 10:15:00</td>\n",
              "      <td>10</td>\n",
              "      <td>100.0</td>\n",
              "      <td>9.0</td>\n",
              "      <td>90.0</td>\n",
              "      <td>0</td>\n",
              "      <td>0</td>\n",
              "      <td>145.0</td>\n",
              "      <td>145.0</td>\n",
              "    </tr>\n",
              "    <tr>\n",
              "      <th>2</th>\n",
              "      <td>2020-10-01 13:10:00</td>\n",
              "      <td>13</td>\n",
              "      <td>55.0</td>\n",
              "      <td>17.0</td>\n",
              "      <td>75.0</td>\n",
              "      <td>0</td>\n",
              "      <td>0</td>\n",
              "      <td>30.0</td>\n",
              "      <td>320.0</td>\n",
              "    </tr>\n",
              "    <tr>\n",
              "      <th>3</th>\n",
              "      <td>2020-10-01 14:35:00</td>\n",
              "      <td>14</td>\n",
              "      <td>80.0</td>\n",
              "      <td>26.0</td>\n",
              "      <td>25.0</td>\n",
              "      <td>0</td>\n",
              "      <td>0</td>\n",
              "      <td>115.0</td>\n",
              "      <td>405.0</td>\n",
              "    </tr>\n",
              "    <tr>\n",
              "      <th>4</th>\n",
              "      <td>2020-10-01 16:20:00</td>\n",
              "      <td>16</td>\n",
              "      <td>5.0</td>\n",
              "      <td>21.0</td>\n",
              "      <td>25.0</td>\n",
              "      <td>0</td>\n",
              "      <td>0</td>\n",
              "      <td>25.0</td>\n",
              "      <td>510.0</td>\n",
              "    </tr>\n",
              "    <tr>\n",
              "      <th>...</th>\n",
              "      <td>...</td>\n",
              "      <td>...</td>\n",
              "      <td>...</td>\n",
              "      <td>...</td>\n",
              "      <td>...</td>\n",
              "      <td>...</td>\n",
              "      <td>...</td>\n",
              "      <td>...</td>\n",
              "      <td>...</td>\n",
              "    </tr>\n",
              "    <tr>\n",
              "      <th>271</th>\n",
              "      <td>2020-10-31 14:20:00</td>\n",
              "      <td>14</td>\n",
              "      <td>10.0</td>\n",
              "      <td>16.0</td>\n",
              "      <td>0.0</td>\n",
              "      <td>200</td>\n",
              "      <td>1110</td>\n",
              "      <td>5.0</td>\n",
              "      <td>380.0</td>\n",
              "    </tr>\n",
              "    <tr>\n",
              "      <th>272</th>\n",
              "      <td>2020-10-31 16:45:00</td>\n",
              "      <td>16</td>\n",
              "      <td>30.0</td>\n",
              "      <td>16.0</td>\n",
              "      <td>145.0</td>\n",
              "      <td>200</td>\n",
              "      <td>1255</td>\n",
              "      <td>150.0</td>\n",
              "      <td>525.0</td>\n",
              "    </tr>\n",
              "    <tr>\n",
              "      <th>273</th>\n",
              "      <td>2020-10-31 20:20:00</td>\n",
              "      <td>20</td>\n",
              "      <td>40.0</td>\n",
              "      <td>20.0</td>\n",
              "      <td>25.0</td>\n",
              "      <td>120</td>\n",
              "      <td>40</td>\n",
              "      <td>50.0</td>\n",
              "      <td>740.0</td>\n",
              "    </tr>\n",
              "    <tr>\n",
              "      <th>274</th>\n",
              "      <td>2020-10-31 21:05:00</td>\n",
              "      <td>21</td>\n",
              "      <td>45.0</td>\n",
              "      <td>20.0</td>\n",
              "      <td>70.0</td>\n",
              "      <td>120</td>\n",
              "      <td>85</td>\n",
              "      <td>95.0</td>\n",
              "      <td>785.0</td>\n",
              "    </tr>\n",
              "    <tr>\n",
              "      <th>275</th>\n",
              "      <td>2020-10-31 22:05:00</td>\n",
              "      <td>22</td>\n",
              "      <td>70.0</td>\n",
              "      <td>12.0</td>\n",
              "      <td>15.0</td>\n",
              "      <td>120</td>\n",
              "      <td>145</td>\n",
              "      <td>155.0</td>\n",
              "      <td>845.0</td>\n",
              "    </tr>\n",
              "  </tbody>\n",
              "</table>\n",
              "<p>276 rows × 9 columns</p>\n",
              "</div>"
            ],
            "text/plain": [
              "               datetime hour  ...  last_small_before  last_big_before\n",
              "0   2020-10-01 08:55:00    8  ...               65.0             65.0\n",
              "1   2020-10-01 10:15:00   10  ...              145.0            145.0\n",
              "2   2020-10-01 13:10:00   13  ...               30.0            320.0\n",
              "3   2020-10-01 14:35:00   14  ...              115.0            405.0\n",
              "4   2020-10-01 16:20:00   16  ...               25.0            510.0\n",
              "..                  ...  ...  ...                ...              ...\n",
              "271 2020-10-31 14:20:00   14  ...                5.0            380.0\n",
              "272 2020-10-31 16:45:00   16  ...              150.0            525.0\n",
              "273 2020-10-31 20:20:00   20  ...               50.0            740.0\n",
              "274 2020-10-31 21:05:00   21  ...               95.0            785.0\n",
              "275 2020-10-31 22:05:00   22  ...              155.0            845.0\n",
              "\n",
              "[276 rows x 9 columns]"
            ]
          },
          "metadata": {
            "tags": []
          },
          "execution_count": 176
        }
      ]
    },
    {
      "cell_type": "code",
      "metadata": {
        "id": "y8gPkn82HtsI"
      },
      "source": [
        "sleep_df.to_csv(f'data/preprocessed/sleep_{target}.tsv', sep='\\t')"
      ],
      "execution_count": 177,
      "outputs": []
    },
    {
      "cell_type": "code",
      "metadata": {
        "id": "AJcxHyU-19AV"
      },
      "source": [
        ""
      ],
      "execution_count": 177,
      "outputs": []
    }
  ]
}