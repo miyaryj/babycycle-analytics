{
  "nbformat": 4,
  "nbformat_minor": 0,
  "metadata": {
    "colab": {
      "name": "preprocess_for_sleep.ipynb",
      "provenance": [],
      "collapsed_sections": []
    },
    "kernelspec": {
      "name": "python3",
      "display_name": "Python 3"
    }
  },
  "cells": [
    {
      "cell_type": "code",
      "metadata": {
        "colab": {
          "base_uri": "https://localhost:8080/"
        },
        "id": "ClsyvvMcxDaq",
        "outputId": "5924b145-bca1-45bd-cc61-3acb665491a5"
      },
      "source": [
        "%cd /content/drive/My Drive/Colab Notebooks/"
      ],
      "execution_count": 151,
      "outputs": [
        {
          "output_type": "stream",
          "text": [
            "/content/drive/My Drive/Colab Notebooks\n"
          ],
          "name": "stdout"
        }
      ]
    },
    {
      "cell_type": "code",
      "metadata": {
        "id": "qkjdbo6DxEBw"
      },
      "source": [
        "import pandas as pd\r\n",
        "import datetime"
      ],
      "execution_count": 152,
      "outputs": []
    },
    {
      "cell_type": "code",
      "metadata": {
        "id": "79y2-pHi1FhU"
      },
      "source": [
        "target = '202012'"
      ],
      "execution_count": 153,
      "outputs": []
    },
    {
      "cell_type": "code",
      "metadata": {
        "colab": {
          "base_uri": "https://localhost:8080/",
          "height": 399
        },
        "id": "tkA-RWkwxGfy",
        "outputId": "9dac65bb-bcac-4a43-fcb2-fcd15b50cd65"
      },
      "source": [
        "df = pd.read_table(f'data/parsed/{target}.tsv', index_col=0)\n",
        "df"
      ],
      "execution_count": 154,
      "outputs": [
        {
          "output_type": "execute_result",
          "data": {
            "text/html": [
              "<div>\n",
              "<style scoped>\n",
              "    .dataframe tbody tr th:only-of-type {\n",
              "        vertical-align: middle;\n",
              "    }\n",
              "\n",
              "    .dataframe tbody tr th {\n",
              "        vertical-align: top;\n",
              "    }\n",
              "\n",
              "    .dataframe thead th {\n",
              "        text-align: right;\n",
              "    }\n",
              "</style>\n",
              "<table border=\"1\" class=\"dataframe\">\n",
              "  <thead>\n",
              "    <tr style=\"text-align: right;\">\n",
              "      <th></th>\n",
              "      <th>date</th>\n",
              "      <th>time</th>\n",
              "      <th>mothermilk</th>\n",
              "      <th>milk</th>\n",
              "      <th>expressedmilk</th>\n",
              "      <th>small</th>\n",
              "      <th>big</th>\n",
              "      <th>sleep</th>\n",
              "    </tr>\n",
              "  </thead>\n",
              "  <tbody>\n",
              "    <tr>\n",
              "      <th>0</th>\n",
              "      <td>2020-12-01</td>\n",
              "      <td>02:15:00</td>\n",
              "      <td>NaN</td>\n",
              "      <td>NaN</td>\n",
              "      <td>NaN</td>\n",
              "      <td>NaN</td>\n",
              "      <td>NaN</td>\n",
              "      <td>0.0</td>\n",
              "    </tr>\n",
              "    <tr>\n",
              "      <th>1</th>\n",
              "      <td>2020-12-01</td>\n",
              "      <td>02:20:00</td>\n",
              "      <td>NaN</td>\n",
              "      <td>NaN</td>\n",
              "      <td>NaN</td>\n",
              "      <td>1.0</td>\n",
              "      <td>NaN</td>\n",
              "      <td>NaN</td>\n",
              "    </tr>\n",
              "    <tr>\n",
              "      <th>2</th>\n",
              "      <td>2020-12-01</td>\n",
              "      <td>02:20:00</td>\n",
              "      <td>7.0</td>\n",
              "      <td>NaN</td>\n",
              "      <td>NaN</td>\n",
              "      <td>NaN</td>\n",
              "      <td>NaN</td>\n",
              "      <td>NaN</td>\n",
              "    </tr>\n",
              "    <tr>\n",
              "      <th>3</th>\n",
              "      <td>2020-12-01</td>\n",
              "      <td>02:30:00</td>\n",
              "      <td>NaN</td>\n",
              "      <td>NaN</td>\n",
              "      <td>NaN</td>\n",
              "      <td>NaN</td>\n",
              "      <td>NaN</td>\n",
              "      <td>1.0</td>\n",
              "    </tr>\n",
              "    <tr>\n",
              "      <th>4</th>\n",
              "      <td>2020-12-01</td>\n",
              "      <td>05:20:00</td>\n",
              "      <td>NaN</td>\n",
              "      <td>NaN</td>\n",
              "      <td>NaN</td>\n",
              "      <td>NaN</td>\n",
              "      <td>NaN</td>\n",
              "      <td>0.0</td>\n",
              "    </tr>\n",
              "    <tr>\n",
              "      <th>...</th>\n",
              "      <td>...</td>\n",
              "      <td>...</td>\n",
              "      <td>...</td>\n",
              "      <td>...</td>\n",
              "      <td>...</td>\n",
              "      <td>...</td>\n",
              "      <td>...</td>\n",
              "      <td>...</td>\n",
              "    </tr>\n",
              "    <tr>\n",
              "      <th>986</th>\n",
              "      <td>2020-12-31</td>\n",
              "      <td>19:20:00</td>\n",
              "      <td>6.0</td>\n",
              "      <td>NaN</td>\n",
              "      <td>NaN</td>\n",
              "      <td>NaN</td>\n",
              "      <td>NaN</td>\n",
              "      <td>NaN</td>\n",
              "    </tr>\n",
              "    <tr>\n",
              "      <th>987</th>\n",
              "      <td>2020-12-31</td>\n",
              "      <td>20:03:00</td>\n",
              "      <td>NaN</td>\n",
              "      <td>NaN</td>\n",
              "      <td>NaN</td>\n",
              "      <td>NaN</td>\n",
              "      <td>NaN</td>\n",
              "      <td>1.0</td>\n",
              "    </tr>\n",
              "    <tr>\n",
              "      <th>988</th>\n",
              "      <td>2020-12-31</td>\n",
              "      <td>20:03:00</td>\n",
              "      <td>42.0</td>\n",
              "      <td>NaN</td>\n",
              "      <td>NaN</td>\n",
              "      <td>NaN</td>\n",
              "      <td>NaN</td>\n",
              "      <td>NaN</td>\n",
              "    </tr>\n",
              "    <tr>\n",
              "      <th>989</th>\n",
              "      <td>2020-12-31</td>\n",
              "      <td>20:03:00</td>\n",
              "      <td>NaN</td>\n",
              "      <td>NaN</td>\n",
              "      <td>NaN</td>\n",
              "      <td>1.0</td>\n",
              "      <td>NaN</td>\n",
              "      <td>NaN</td>\n",
              "    </tr>\n",
              "    <tr>\n",
              "      <th>990</th>\n",
              "      <td>2020-12-31</td>\n",
              "      <td>20:03:00</td>\n",
              "      <td>NaN</td>\n",
              "      <td>NaN</td>\n",
              "      <td>NaN</td>\n",
              "      <td>NaN</td>\n",
              "      <td>1.0</td>\n",
              "      <td>NaN</td>\n",
              "    </tr>\n",
              "  </tbody>\n",
              "</table>\n",
              "<p>991 rows × 8 columns</p>\n",
              "</div>"
            ],
            "text/plain": [
              "           date      time  mothermilk  milk  expressedmilk  small  big  sleep\n",
              "0    2020-12-01  02:15:00         NaN   NaN            NaN    NaN  NaN    0.0\n",
              "1    2020-12-01  02:20:00         NaN   NaN            NaN    1.0  NaN    NaN\n",
              "2    2020-12-01  02:20:00         7.0   NaN            NaN    NaN  NaN    NaN\n",
              "3    2020-12-01  02:30:00         NaN   NaN            NaN    NaN  NaN    1.0\n",
              "4    2020-12-01  05:20:00         NaN   NaN            NaN    NaN  NaN    0.0\n",
              "..          ...       ...         ...   ...            ...    ...  ...    ...\n",
              "986  2020-12-31  19:20:00         6.0   NaN            NaN    NaN  NaN    NaN\n",
              "987  2020-12-31  20:03:00         NaN   NaN            NaN    NaN  NaN    1.0\n",
              "988  2020-12-31  20:03:00        42.0   NaN            NaN    NaN  NaN    NaN\n",
              "989  2020-12-31  20:03:00         NaN   NaN            NaN    1.0  NaN    NaN\n",
              "990  2020-12-31  20:03:00         NaN   NaN            NaN    NaN  1.0    NaN\n",
              "\n",
              "[991 rows x 8 columns]"
            ]
          },
          "metadata": {
            "tags": []
          },
          "execution_count": 154
        }
      ]
    },
    {
      "cell_type": "markdown",
      "metadata": {
        "id": "XKVicjFx7kGh"
      },
      "source": [
        "datetime indexをセット"
      ]
    },
    {
      "cell_type": "code",
      "metadata": {
        "colab": {
          "base_uri": "https://localhost:8080/",
          "height": 428
        },
        "id": "z-VQTPkyxS_M",
        "outputId": "cfb9b22c-1a06-476b-ecb6-8d752aa6e364"
      },
      "source": [
        "df['datetime'] = pd.to_datetime(df['date'] + 'T' + df['time'])\n",
        "df = df.set_index('datetime')\n",
        "df"
      ],
      "execution_count": 155,
      "outputs": [
        {
          "output_type": "execute_result",
          "data": {
            "text/html": [
              "<div>\n",
              "<style scoped>\n",
              "    .dataframe tbody tr th:only-of-type {\n",
              "        vertical-align: middle;\n",
              "    }\n",
              "\n",
              "    .dataframe tbody tr th {\n",
              "        vertical-align: top;\n",
              "    }\n",
              "\n",
              "    .dataframe thead th {\n",
              "        text-align: right;\n",
              "    }\n",
              "</style>\n",
              "<table border=\"1\" class=\"dataframe\">\n",
              "  <thead>\n",
              "    <tr style=\"text-align: right;\">\n",
              "      <th></th>\n",
              "      <th>date</th>\n",
              "      <th>time</th>\n",
              "      <th>mothermilk</th>\n",
              "      <th>milk</th>\n",
              "      <th>expressedmilk</th>\n",
              "      <th>small</th>\n",
              "      <th>big</th>\n",
              "      <th>sleep</th>\n",
              "    </tr>\n",
              "    <tr>\n",
              "      <th>datetime</th>\n",
              "      <th></th>\n",
              "      <th></th>\n",
              "      <th></th>\n",
              "      <th></th>\n",
              "      <th></th>\n",
              "      <th></th>\n",
              "      <th></th>\n",
              "      <th></th>\n",
              "    </tr>\n",
              "  </thead>\n",
              "  <tbody>\n",
              "    <tr>\n",
              "      <th>2020-12-01 02:15:00</th>\n",
              "      <td>2020-12-01</td>\n",
              "      <td>02:15:00</td>\n",
              "      <td>NaN</td>\n",
              "      <td>NaN</td>\n",
              "      <td>NaN</td>\n",
              "      <td>NaN</td>\n",
              "      <td>NaN</td>\n",
              "      <td>0.0</td>\n",
              "    </tr>\n",
              "    <tr>\n",
              "      <th>2020-12-01 02:20:00</th>\n",
              "      <td>2020-12-01</td>\n",
              "      <td>02:20:00</td>\n",
              "      <td>NaN</td>\n",
              "      <td>NaN</td>\n",
              "      <td>NaN</td>\n",
              "      <td>1.0</td>\n",
              "      <td>NaN</td>\n",
              "      <td>NaN</td>\n",
              "    </tr>\n",
              "    <tr>\n",
              "      <th>2020-12-01 02:20:00</th>\n",
              "      <td>2020-12-01</td>\n",
              "      <td>02:20:00</td>\n",
              "      <td>7.0</td>\n",
              "      <td>NaN</td>\n",
              "      <td>NaN</td>\n",
              "      <td>NaN</td>\n",
              "      <td>NaN</td>\n",
              "      <td>NaN</td>\n",
              "    </tr>\n",
              "    <tr>\n",
              "      <th>2020-12-01 02:30:00</th>\n",
              "      <td>2020-12-01</td>\n",
              "      <td>02:30:00</td>\n",
              "      <td>NaN</td>\n",
              "      <td>NaN</td>\n",
              "      <td>NaN</td>\n",
              "      <td>NaN</td>\n",
              "      <td>NaN</td>\n",
              "      <td>1.0</td>\n",
              "    </tr>\n",
              "    <tr>\n",
              "      <th>2020-12-01 05:20:00</th>\n",
              "      <td>2020-12-01</td>\n",
              "      <td>05:20:00</td>\n",
              "      <td>NaN</td>\n",
              "      <td>NaN</td>\n",
              "      <td>NaN</td>\n",
              "      <td>NaN</td>\n",
              "      <td>NaN</td>\n",
              "      <td>0.0</td>\n",
              "    </tr>\n",
              "    <tr>\n",
              "      <th>...</th>\n",
              "      <td>...</td>\n",
              "      <td>...</td>\n",
              "      <td>...</td>\n",
              "      <td>...</td>\n",
              "      <td>...</td>\n",
              "      <td>...</td>\n",
              "      <td>...</td>\n",
              "      <td>...</td>\n",
              "    </tr>\n",
              "    <tr>\n",
              "      <th>2020-12-31 19:20:00</th>\n",
              "      <td>2020-12-31</td>\n",
              "      <td>19:20:00</td>\n",
              "      <td>6.0</td>\n",
              "      <td>NaN</td>\n",
              "      <td>NaN</td>\n",
              "      <td>NaN</td>\n",
              "      <td>NaN</td>\n",
              "      <td>NaN</td>\n",
              "    </tr>\n",
              "    <tr>\n",
              "      <th>2020-12-31 20:03:00</th>\n",
              "      <td>2020-12-31</td>\n",
              "      <td>20:03:00</td>\n",
              "      <td>NaN</td>\n",
              "      <td>NaN</td>\n",
              "      <td>NaN</td>\n",
              "      <td>NaN</td>\n",
              "      <td>NaN</td>\n",
              "      <td>1.0</td>\n",
              "    </tr>\n",
              "    <tr>\n",
              "      <th>2020-12-31 20:03:00</th>\n",
              "      <td>2020-12-31</td>\n",
              "      <td>20:03:00</td>\n",
              "      <td>42.0</td>\n",
              "      <td>NaN</td>\n",
              "      <td>NaN</td>\n",
              "      <td>NaN</td>\n",
              "      <td>NaN</td>\n",
              "      <td>NaN</td>\n",
              "    </tr>\n",
              "    <tr>\n",
              "      <th>2020-12-31 20:03:00</th>\n",
              "      <td>2020-12-31</td>\n",
              "      <td>20:03:00</td>\n",
              "      <td>NaN</td>\n",
              "      <td>NaN</td>\n",
              "      <td>NaN</td>\n",
              "      <td>1.0</td>\n",
              "      <td>NaN</td>\n",
              "      <td>NaN</td>\n",
              "    </tr>\n",
              "    <tr>\n",
              "      <th>2020-12-31 20:03:00</th>\n",
              "      <td>2020-12-31</td>\n",
              "      <td>20:03:00</td>\n",
              "      <td>NaN</td>\n",
              "      <td>NaN</td>\n",
              "      <td>NaN</td>\n",
              "      <td>NaN</td>\n",
              "      <td>1.0</td>\n",
              "      <td>NaN</td>\n",
              "    </tr>\n",
              "  </tbody>\n",
              "</table>\n",
              "<p>991 rows × 8 columns</p>\n",
              "</div>"
            ],
            "text/plain": [
              "                           date      time  mothermilk  ...  small  big  sleep\n",
              "datetime                                               ...                   \n",
              "2020-12-01 02:15:00  2020-12-01  02:15:00         NaN  ...    NaN  NaN    0.0\n",
              "2020-12-01 02:20:00  2020-12-01  02:20:00         NaN  ...    1.0  NaN    NaN\n",
              "2020-12-01 02:20:00  2020-12-01  02:20:00         7.0  ...    NaN  NaN    NaN\n",
              "2020-12-01 02:30:00  2020-12-01  02:30:00         NaN  ...    NaN  NaN    1.0\n",
              "2020-12-01 05:20:00  2020-12-01  05:20:00         NaN  ...    NaN  NaN    0.0\n",
              "...                         ...       ...         ...  ...    ...  ...    ...\n",
              "2020-12-31 19:20:00  2020-12-31  19:20:00         6.0  ...    NaN  NaN    NaN\n",
              "2020-12-31 20:03:00  2020-12-31  20:03:00         NaN  ...    NaN  NaN    1.0\n",
              "2020-12-31 20:03:00  2020-12-31  20:03:00        42.0  ...    NaN  NaN    NaN\n",
              "2020-12-31 20:03:00  2020-12-31  20:03:00         NaN  ...    1.0  NaN    NaN\n",
              "2020-12-31 20:03:00  2020-12-31  20:03:00         NaN  ...    NaN  1.0    NaN\n",
              "\n",
              "[991 rows x 8 columns]"
            ]
          },
          "metadata": {
            "tags": []
          },
          "execution_count": 155
        }
      ]
    },
    {
      "cell_type": "markdown",
      "metadata": {
        "id": "xehDoJLW7rYZ"
      },
      "source": [
        "睡眠時間 (分) をsleep_minutes列にセット"
      ]
    },
    {
      "cell_type": "code",
      "metadata": {
        "colab": {
          "base_uri": "https://localhost:8080/"
        },
        "id": "o5V8UzdQnihe",
        "outputId": "a9a52e1b-4c12-401a-f260-28cd1eb22ed5"
      },
      "source": [
        "import numpy as np\n",
        "\n",
        "sleep_series = pd.Series()\n",
        "sleep_in_time = 0\n",
        "df['sleep_minutes'] = np.nan\n",
        "\n",
        "for index, row in df.iterrows():\n",
        "    if row['sleep'] == 1:\n",
        "        sleep_in_time = index\n",
        "    if row['sleep'] == 0 and sleep_in_time is not 0:\n",
        "        delta = index - sleep_in_time\n",
        "        df.loc[sleep_in_time, 'sleep_minutes'] = delta.total_seconds() / 60"
      ],
      "execution_count": 156,
      "outputs": [
        {
          "output_type": "stream",
          "text": [
            "/usr/local/lib/python3.6/dist-packages/ipykernel_launcher.py:3: DeprecationWarning: The default dtype for empty Series will be 'object' instead of 'float64' in a future version. Specify a dtype explicitly to silence this warning.\n",
            "  This is separate from the ipykernel package so we can avoid doing imports until\n"
          ],
          "name": "stderr"
        }
      ]
    },
    {
      "cell_type": "code",
      "metadata": {
        "colab": {
          "base_uri": "https://localhost:8080/"
        },
        "id": "LItr4Lis879O",
        "outputId": "6b1cbaaa-9e04-44a3-dc10-0a0786a7eb7f"
      },
      "source": [
        "wake_series = pd.Series()\n",
        "wake_up_time = 0\n",
        "df['wake_minutes'] = np.nan\n",
        "\n",
        "for index, row in df.iterrows():\n",
        "    if row['sleep'] == 0:\n",
        "        wake_up_time = index\n",
        "    if row['sleep'] == 1 and wake_up_time is not 0:\n",
        "        delta = index - wake_up_time\n",
        "        df.loc[wake_up_time, 'wake_minutes'] = delta.total_seconds() / 60"
      ],
      "execution_count": 157,
      "outputs": [
        {
          "output_type": "stream",
          "text": [
            "/usr/local/lib/python3.6/dist-packages/ipykernel_launcher.py:1: DeprecationWarning: The default dtype for empty Series will be 'object' instead of 'float64' in a future version. Specify a dtype explicitly to silence this warning.\n",
            "  \"\"\"Entry point for launching an IPython kernel.\n"
          ],
          "name": "stderr"
        }
      ]
    },
    {
      "cell_type": "markdown",
      "metadata": {
        "id": "T5tW2oUX-M68"
      },
      "source": [
        "5分間隔のデータに整理"
      ]
    },
    {
      "cell_type": "code",
      "metadata": {
        "id": "w8p0Ptya54rT"
      },
      "source": [
        "df_5min = df.groupby(pd.Grouper(freq='5min')).sum()\r\n",
        "df_5min['sleep_minutes'] = df['sleep_minutes'].groupby(pd.Grouper(freq='5min')).mean()  # 同じ値が同じ時刻のデータすべてに入ってしまっている\r\n",
        "df_5min['wake_minutes'] = df['wake_minutes'].groupby(pd.Grouper(freq='5min')).mean()  # 同じ値が同じ時刻のデータすべてに入ってしまっている"
      ],
      "execution_count": 158,
      "outputs": []
    },
    {
      "cell_type": "markdown",
      "metadata": {
        "id": "XhmZEtUD-TBp"
      },
      "source": [
        "1時間ごとに、その時間に入眠した場合にどれくらい(分)眠り続けたかの平均"
      ]
    },
    {
      "cell_type": "code",
      "metadata": {
        "colab": {
          "base_uri": "https://localhost:8080/",
          "height": 644
        },
        "id": "he5_Fqji8R9k",
        "outputId": "dad88474-1153-4f47-a793-c908541d6753"
      },
      "source": [
        "by_hour = df_5min.groupby(lambda x: datetime.time(hour=x.hour)).mean()\r\n",
        "by_hour['sleep_minutes'].plot.bar(figsize=(10,10))"
      ],
      "execution_count": 159,
      "outputs": [
        {
          "output_type": "execute_result",
          "data": {
            "text/plain": [
              "<matplotlib.axes._subplots.AxesSubplot at 0x7fc29e11da90>"
            ]
          },
          "metadata": {
            "tags": []
          },
          "execution_count": 159
        },
        {
          "output_type": "display_data",
          "data": {
            "image/png": "[encoded data removed]",
            "text/plain": [
              "<Figure size 720x720 with 1 Axes>"
            ]
          },
          "metadata": {
            "tags": [],
            "needs_background": "light"
          }
        }
      ]
    },
    {
      "cell_type": "markdown",
      "metadata": {
        "id": "kLX4qbyY7Ig2"
      },
      "source": [
        "分布を確認"
      ]
    },
    {
      "cell_type": "code",
      "metadata": {
        "colab": {
          "base_uri": "https://localhost:8080/"
        },
        "id": "MMeTxAw43xYu",
        "outputId": "eea166b8-a555-4e46-e3a0-329687099a57"
      },
      "source": [
        "df_5min[df_5min['mothermilk'] > 0]['mothermilk'].describe()"
      ],
      "execution_count": 160,
      "outputs": [
        {
          "output_type": "execute_result",
          "data": {
            "text/plain": [
              "count    212.000000\n",
              "mean      16.212264\n",
              "std       17.038491\n",
              "min        2.000000\n",
              "25%        8.000000\n",
              "50%        9.500000\n",
              "75%       13.000000\n",
              "max       87.000000\n",
              "Name: mothermilk, dtype: float64"
            ]
          },
          "metadata": {
            "tags": []
          },
          "execution_count": 160
        }
      ]
    },
    {
      "cell_type": "code",
      "metadata": {
        "colab": {
          "base_uri": "https://localhost:8080/"
        },
        "id": "mYzoxPCR5rXq",
        "outputId": "77382b37-504d-4ef5-8d91-fc622c7d98ab"
      },
      "source": [
        "df_5min[df_5min['milk'] > 0]['milk'].describe()"
      ],
      "execution_count": 161,
      "outputs": [
        {
          "output_type": "execute_result",
          "data": {
            "text/plain": [
              "count     33.000000\n",
              "mean     140.606061\n",
              "std       33.348481\n",
              "min       80.000000\n",
              "25%      120.000000\n",
              "50%      160.000000\n",
              "75%      160.000000\n",
              "max      160.000000\n",
              "Name: milk, dtype: float64"
            ]
          },
          "metadata": {
            "tags": []
          },
          "execution_count": 161
        }
      ]
    },
    {
      "cell_type": "code",
      "metadata": {
        "colab": {
          "base_uri": "https://localhost:8080/"
        },
        "id": "WWn3aVE66C8a",
        "outputId": "92895b88-b02f-4bf6-d9a2-e1892d9d190e"
      },
      "source": [
        "df_5min[df_5min['expressedmilk'] > 0]['expressedmilk'].describe()"
      ],
      "execution_count": 162,
      "outputs": [
        {
          "output_type": "execute_result",
          "data": {
            "text/plain": [
              "count    0.0\n",
              "mean     NaN\n",
              "std      NaN\n",
              "min      NaN\n",
              "25%      NaN\n",
              "50%      NaN\n",
              "75%      NaN\n",
              "max      NaN\n",
              "Name: expressedmilk, dtype: float64"
            ]
          },
          "metadata": {
            "tags": []
          },
          "execution_count": 162
        }
      ]
    },
    {
      "cell_type": "code",
      "metadata": {
        "colab": {
          "base_uri": "https://localhost:8080/"
        },
        "id": "hQtehzGi6IVe",
        "outputId": "e88711ce-ae85-45d0-ff24-6b3bac80b6e5"
      },
      "source": [
        "df_5min[df_5min['sleep_minutes'] > 0]['sleep_minutes'].describe()"
      ],
      "execution_count": 163,
      "outputs": [
        {
          "output_type": "execute_result",
          "data": {
            "text/plain": [
              "count    216.000000\n",
              "mean     108.856481\n",
              "std      135.736587\n",
              "min        5.000000\n",
              "25%       30.000000\n",
              "50%       51.500000\n",
              "75%      120.000000\n",
              "max      642.000000\n",
              "Name: sleep_minutes, dtype: float64"
            ]
          },
          "metadata": {
            "tags": []
          },
          "execution_count": 163
        }
      ]
    },
    {
      "cell_type": "code",
      "metadata": {
        "colab": {
          "base_uri": "https://localhost:8080/"
        },
        "id": "jY6GKjaR_pV4",
        "outputId": "a91849ef-6357-45d8-b459-fd361a8bf4e5"
      },
      "source": [
        "df_5min[df_5min['wake_minutes'] > 0]['wake_minutes'].describe()"
      ],
      "execution_count": 164,
      "outputs": [
        {
          "output_type": "execute_result",
          "data": {
            "text/plain": [
              "count    219.000000\n",
              "mean      94.771689\n",
              "std       66.243247\n",
              "min        4.000000\n",
              "25%       30.000000\n",
              "50%      100.000000\n",
              "75%      140.000000\n",
              "max      300.000000\n",
              "Name: wake_minutes, dtype: float64"
            ]
          },
          "metadata": {
            "tags": []
          },
          "execution_count": 164
        }
      ]
    },
    {
      "cell_type": "markdown",
      "metadata": {
        "id": "n1IA5AC51rW5"
      },
      "source": [
        "ある時刻より前の最後のイベントを取得する関数"
      ]
    },
    {
      "cell_type": "code",
      "metadata": {
        "colab": {
          "base_uri": "https://localhost:8080/"
        },
        "id": "deyfUPzIEjEA",
        "outputId": "62934f27-529f-43ec-89dd-391d60255576"
      },
      "source": [
        "def last_event_by(df, time, column):\r\n",
        "    rows = df[:time][df[:time][column] > 0]\r\n",
        "    if len(rows) == 0:\r\n",
        "        return 0, 0, 0\r\n",
        "    row = rows.iloc[-1]\r\n",
        "    delta = time - row.name\r\n",
        "    return row.name, row[column], delta.total_seconds() / 60\r\n",
        "\r\n",
        "last_event_by(df_5min, pd.to_datetime('2020-10-02 03:00'), 'mothermilk')"
      ],
      "execution_count": 165,
      "outputs": [
        {
          "output_type": "execute_result",
          "data": {
            "text/plain": [
              "(0, 0, 0)"
            ]
          },
          "metadata": {
            "tags": []
          },
          "execution_count": 165
        }
      ]
    },
    {
      "cell_type": "markdown",
      "metadata": {
        "id": "H860k4l91tBN"
      },
      "source": [
        "睡眠時間と、その直前の各種イベントの内容をデータセット化"
      ]
    },
    {
      "cell_type": "code",
      "metadata": {
        "colab": {
          "base_uri": "https://localhost:8080/",
          "height": 399
        },
        "id": "40nFT4_hAruX",
        "outputId": "fe72cad1-a7e0-46f0-9141-82a99e0a1f5f"
      },
      "source": [
        "sleep_df = pd.DataFrame(columns=['datetime', 'hour', 'sleep_minutes', 'last_mothermilk', 'last_mothermilk_before', 'last_milk', 'last_milk_before', 'last_small_before', 'last_big_before', 'last_wake_minutes'])\r\n",
        "\r\n",
        "for index, row in df_5min.iterrows():\r\n",
        "    if row['sleep_minutes'] > 0:\r\n",
        "        mothermilk_time, mothermilk, mothermilk_before = last_event_by(df_5min, index, 'mothermilk')\r\n",
        "        milk_time, milk, milk_before = last_event_by(df_5min, index, 'milk')\r\n",
        "        small_time, small, small_before = last_event_by(df_5min, index, 'small')\r\n",
        "        big_time, big, big_before = last_event_by(df_5min, index, 'big')\r\n",
        "        wake_time, wake, wake_before = last_event_by(df_5min, index, 'wake_minutes')\r\n",
        "        sleep_df = sleep_df.append({\r\n",
        "            'datetime': index,\r\n",
        "            'hour': index.hour,\r\n",
        "            'sleep_minutes': row['sleep_minutes'],\r\n",
        "            'last_mothermilk': mothermilk,\r\n",
        "            'last_mothermilk_before': mothermilk_before,\r\n",
        "            'last_milk': milk,\r\n",
        "            'last_milk_before': milk_before,\r\n",
        "            'last_small_before': small_before,\r\n",
        "            'last_big_before': big_before,\r\n",
        "            'last_wake_minutes': wake\r\n",
        "        }, ignore_index=True)\r\n",
        "\r\n",
        "sleep_df"
      ],
      "execution_count": 166,
      "outputs": [
        {
          "output_type": "execute_result",
          "data": {
            "text/html": [
              "<div>\n",
              "<style scoped>\n",
              "    .dataframe tbody tr th:only-of-type {\n",
              "        vertical-align: middle;\n",
              "    }\n",
              "\n",
              "    .dataframe tbody tr th {\n",
              "        vertical-align: top;\n",
              "    }\n",
              "\n",
              "    .dataframe thead th {\n",
              "        text-align: right;\n",
              "    }\n",
              "</style>\n",
              "<table border=\"1\" class=\"dataframe\">\n",
              "  <thead>\n",
              "    <tr style=\"text-align: right;\">\n",
              "      <th></th>\n",
              "      <th>datetime</th>\n",
              "      <th>hour</th>\n",
              "      <th>sleep_minutes</th>\n",
              "      <th>last_mothermilk</th>\n",
              "      <th>last_mothermilk_before</th>\n",
              "      <th>last_milk</th>\n",
              "      <th>last_milk_before</th>\n",
              "      <th>last_small_before</th>\n",
              "      <th>last_big_before</th>\n",
              "      <th>last_wake_minutes</th>\n",
              "    </tr>\n",
              "  </thead>\n",
              "  <tbody>\n",
              "    <tr>\n",
              "      <th>0</th>\n",
              "      <td>2020-12-01 02:30:00</td>\n",
              "      <td>2</td>\n",
              "      <td>170.0</td>\n",
              "      <td>7.0</td>\n",
              "      <td>10.0</td>\n",
              "      <td>0</td>\n",
              "      <td>0</td>\n",
              "      <td>10.0</td>\n",
              "      <td>0</td>\n",
              "      <td>15.0</td>\n",
              "    </tr>\n",
              "    <tr>\n",
              "      <th>1</th>\n",
              "      <td>2020-12-01 06:00:00</td>\n",
              "      <td>6</td>\n",
              "      <td>60.0</td>\n",
              "      <td>17.0</td>\n",
              "      <td>30.0</td>\n",
              "      <td>0</td>\n",
              "      <td>0</td>\n",
              "      <td>30.0</td>\n",
              "      <td>30</td>\n",
              "      <td>40.0</td>\n",
              "    </tr>\n",
              "    <tr>\n",
              "      <th>2</th>\n",
              "      <td>2020-12-01 09:25:00</td>\n",
              "      <td>9</td>\n",
              "      <td>5.0</td>\n",
              "      <td>7.0</td>\n",
              "      <td>85.0</td>\n",
              "      <td>0</td>\n",
              "      <td>0</td>\n",
              "      <td>130.0</td>\n",
              "      <td>130</td>\n",
              "      <td>145.0</td>\n",
              "    </tr>\n",
              "    <tr>\n",
              "      <th>3</th>\n",
              "      <td>2020-12-01 09:35:00</td>\n",
              "      <td>9</td>\n",
              "      <td>50.0</td>\n",
              "      <td>7.0</td>\n",
              "      <td>95.0</td>\n",
              "      <td>0</td>\n",
              "      <td>0</td>\n",
              "      <td>140.0</td>\n",
              "      <td>140</td>\n",
              "      <td>5.0</td>\n",
              "    </tr>\n",
              "    <tr>\n",
              "      <th>4</th>\n",
              "      <td>2020-12-01 11:45:00</td>\n",
              "      <td>11</td>\n",
              "      <td>10.0</td>\n",
              "      <td>7.0</td>\n",
              "      <td>225.0</td>\n",
              "      <td>0</td>\n",
              "      <td>0</td>\n",
              "      <td>55.0</td>\n",
              "      <td>55</td>\n",
              "      <td>80.0</td>\n",
              "    </tr>\n",
              "    <tr>\n",
              "      <th>...</th>\n",
              "      <td>...</td>\n",
              "      <td>...</td>\n",
              "      <td>...</td>\n",
              "      <td>...</td>\n",
              "      <td>...</td>\n",
              "      <td>...</td>\n",
              "      <td>...</td>\n",
              "      <td>...</td>\n",
              "      <td>...</td>\n",
              "      <td>...</td>\n",
              "    </tr>\n",
              "    <tr>\n",
              "      <th>211</th>\n",
              "      <td>2020-12-30 19:40:00</td>\n",
              "      <td>19</td>\n",
              "      <td>618.0</td>\n",
              "      <td>49.0</td>\n",
              "      <td>0.0</td>\n",
              "      <td>160</td>\n",
              "      <td>40</td>\n",
              "      <td>0.0</td>\n",
              "      <td>0</td>\n",
              "      <td>137.0</td>\n",
              "    </tr>\n",
              "    <tr>\n",
              "      <th>212</th>\n",
              "      <td>2020-12-31 08:10:00</td>\n",
              "      <td>8</td>\n",
              "      <td>50.0</td>\n",
              "      <td>10.0</td>\n",
              "      <td>70.0</td>\n",
              "      <td>160</td>\n",
              "      <td>790</td>\n",
              "      <td>10.0</td>\n",
              "      <td>750</td>\n",
              "      <td>130.0</td>\n",
              "    </tr>\n",
              "    <tr>\n",
              "      <th>213</th>\n",
              "      <td>2020-12-31 11:50:00</td>\n",
              "      <td>11</td>\n",
              "      <td>20.0</td>\n",
              "      <td>8.0</td>\n",
              "      <td>120.0</td>\n",
              "      <td>160</td>\n",
              "      <td>1010</td>\n",
              "      <td>20.0</td>\n",
              "      <td>970</td>\n",
              "      <td>170.0</td>\n",
              "    </tr>\n",
              "    <tr>\n",
              "      <th>214</th>\n",
              "      <td>2020-12-31 14:05:00</td>\n",
              "      <td>14</td>\n",
              "      <td>70.0</td>\n",
              "      <td>8.0</td>\n",
              "      <td>70.0</td>\n",
              "      <td>160</td>\n",
              "      <td>1145</td>\n",
              "      <td>155.0</td>\n",
              "      <td>1105</td>\n",
              "      <td>115.0</td>\n",
              "    </tr>\n",
              "    <tr>\n",
              "      <th>215</th>\n",
              "      <td>2020-12-31 17:25:00</td>\n",
              "      <td>17</td>\n",
              "      <td>5.0</td>\n",
              "      <td>9.0</td>\n",
              "      <td>75.0</td>\n",
              "      <td>160</td>\n",
              "      <td>1345</td>\n",
              "      <td>115.0</td>\n",
              "      <td>1305</td>\n",
              "      <td>130.0</td>\n",
              "    </tr>\n",
              "  </tbody>\n",
              "</table>\n",
              "<p>216 rows × 10 columns</p>\n",
              "</div>"
            ],
            "text/plain": [
              "               datetime hour  ...  last_big_before  last_wake_minutes\n",
              "0   2020-12-01 02:30:00    2  ...                0               15.0\n",
              "1   2020-12-01 06:00:00    6  ...               30               40.0\n",
              "2   2020-12-01 09:25:00    9  ...              130              145.0\n",
              "3   2020-12-01 09:35:00    9  ...              140                5.0\n",
              "4   2020-12-01 11:45:00   11  ...               55               80.0\n",
              "..                  ...  ...  ...              ...                ...\n",
              "211 2020-12-30 19:40:00   19  ...                0              137.0\n",
              "212 2020-12-31 08:10:00    8  ...              750              130.0\n",
              "213 2020-12-31 11:50:00   11  ...              970              170.0\n",
              "214 2020-12-31 14:05:00   14  ...             1105              115.0\n",
              "215 2020-12-31 17:25:00   17  ...             1305              130.0\n",
              "\n",
              "[216 rows x 10 columns]"
            ]
          },
          "metadata": {
            "tags": []
          },
          "execution_count": 166
        }
      ]
    },
    {
      "cell_type": "code",
      "metadata": {
        "id": "y8gPkn82HtsI"
      },
      "source": [
        "sleep_df.to_csv(f'data/preprocessed/sleep_{target}.tsv', sep='\\t')"
      ],
      "execution_count": 167,
      "outputs": []
    },
    {
      "cell_type": "code",
      "metadata": {
        "colab": {
          "base_uri": "https://localhost:8080/",
          "height": 399
        },
        "id": "wdjazqwEA9Ls",
        "outputId": "5b03ccf7-c20f-4cf6-bf33-4ca23dec5c0e"
      },
      "source": [
        "sleep_daytime_df = sleep_df[sleep_df['hour'].map(lambda hour: hour >= 6 and hour <= 18)]\r\n",
        "sleep_daytime_df"
      ],
      "execution_count": 168,
      "outputs": [
        {
          "output_type": "execute_result",
          "data": {
            "text/html": [
              "<div>\n",
              "<style scoped>\n",
              "    .dataframe tbody tr th:only-of-type {\n",
              "        vertical-align: middle;\n",
              "    }\n",
              "\n",
              "    .dataframe tbody tr th {\n",
              "        vertical-align: top;\n",
              "    }\n",
              "\n",
              "    .dataframe thead th {\n",
              "        text-align: right;\n",
              "    }\n",
              "</style>\n",
              "<table border=\"1\" class=\"dataframe\">\n",
              "  <thead>\n",
              "    <tr style=\"text-align: right;\">\n",
              "      <th></th>\n",
              "      <th>datetime</th>\n",
              "      <th>hour</th>\n",
              "      <th>sleep_minutes</th>\n",
              "      <th>last_mothermilk</th>\n",
              "      <th>last_mothermilk_before</th>\n",
              "      <th>last_milk</th>\n",
              "      <th>last_milk_before</th>\n",
              "      <th>last_small_before</th>\n",
              "      <th>last_big_before</th>\n",
              "      <th>last_wake_minutes</th>\n",
              "    </tr>\n",
              "  </thead>\n",
              "  <tbody>\n",
              "    <tr>\n",
              "      <th>1</th>\n",
              "      <td>2020-12-01 06:00:00</td>\n",
              "      <td>6</td>\n",
              "      <td>60.0</td>\n",
              "      <td>17.0</td>\n",
              "      <td>30.0</td>\n",
              "      <td>0</td>\n",
              "      <td>0</td>\n",
              "      <td>30.0</td>\n",
              "      <td>30</td>\n",
              "      <td>40.0</td>\n",
              "    </tr>\n",
              "    <tr>\n",
              "      <th>2</th>\n",
              "      <td>2020-12-01 09:25:00</td>\n",
              "      <td>9</td>\n",
              "      <td>5.0</td>\n",
              "      <td>7.0</td>\n",
              "      <td>85.0</td>\n",
              "      <td>0</td>\n",
              "      <td>0</td>\n",
              "      <td>130.0</td>\n",
              "      <td>130</td>\n",
              "      <td>145.0</td>\n",
              "    </tr>\n",
              "    <tr>\n",
              "      <th>3</th>\n",
              "      <td>2020-12-01 09:35:00</td>\n",
              "      <td>9</td>\n",
              "      <td>50.0</td>\n",
              "      <td>7.0</td>\n",
              "      <td>95.0</td>\n",
              "      <td>0</td>\n",
              "      <td>0</td>\n",
              "      <td>140.0</td>\n",
              "      <td>140</td>\n",
              "      <td>5.0</td>\n",
              "    </tr>\n",
              "    <tr>\n",
              "      <th>4</th>\n",
              "      <td>2020-12-01 11:45:00</td>\n",
              "      <td>11</td>\n",
              "      <td>10.0</td>\n",
              "      <td>7.0</td>\n",
              "      <td>225.0</td>\n",
              "      <td>0</td>\n",
              "      <td>0</td>\n",
              "      <td>55.0</td>\n",
              "      <td>55</td>\n",
              "      <td>80.0</td>\n",
              "    </tr>\n",
              "    <tr>\n",
              "      <th>5</th>\n",
              "      <td>2020-12-01 13:55:00</td>\n",
              "      <td>13</td>\n",
              "      <td>85.0</td>\n",
              "      <td>12.0</td>\n",
              "      <td>100.0</td>\n",
              "      <td>0</td>\n",
              "      <td>0</td>\n",
              "      <td>60.0</td>\n",
              "      <td>185</td>\n",
              "      <td>120.0</td>\n",
              "    </tr>\n",
              "    <tr>\n",
              "      <th>...</th>\n",
              "      <td>...</td>\n",
              "      <td>...</td>\n",
              "      <td>...</td>\n",
              "      <td>...</td>\n",
              "      <td>...</td>\n",
              "      <td>...</td>\n",
              "      <td>...</td>\n",
              "      <td>...</td>\n",
              "      <td>...</td>\n",
              "      <td>...</td>\n",
              "    </tr>\n",
              "    <tr>\n",
              "      <th>210</th>\n",
              "      <td>2020-12-30 16:45:00</td>\n",
              "      <td>16</td>\n",
              "      <td>40.0</td>\n",
              "      <td>10.0</td>\n",
              "      <td>65.0</td>\n",
              "      <td>160</td>\n",
              "      <td>1305</td>\n",
              "      <td>15.0</td>\n",
              "      <td>15</td>\n",
              "      <td>85.0</td>\n",
              "    </tr>\n",
              "    <tr>\n",
              "      <th>212</th>\n",
              "      <td>2020-12-31 08:10:00</td>\n",
              "      <td>8</td>\n",
              "      <td>50.0</td>\n",
              "      <td>10.0</td>\n",
              "      <td>70.0</td>\n",
              "      <td>160</td>\n",
              "      <td>790</td>\n",
              "      <td>10.0</td>\n",
              "      <td>750</td>\n",
              "      <td>130.0</td>\n",
              "    </tr>\n",
              "    <tr>\n",
              "      <th>213</th>\n",
              "      <td>2020-12-31 11:50:00</td>\n",
              "      <td>11</td>\n",
              "      <td>20.0</td>\n",
              "      <td>8.0</td>\n",
              "      <td>120.0</td>\n",
              "      <td>160</td>\n",
              "      <td>1010</td>\n",
              "      <td>20.0</td>\n",
              "      <td>970</td>\n",
              "      <td>170.0</td>\n",
              "    </tr>\n",
              "    <tr>\n",
              "      <th>214</th>\n",
              "      <td>2020-12-31 14:05:00</td>\n",
              "      <td>14</td>\n",
              "      <td>70.0</td>\n",
              "      <td>8.0</td>\n",
              "      <td>70.0</td>\n",
              "      <td>160</td>\n",
              "      <td>1145</td>\n",
              "      <td>155.0</td>\n",
              "      <td>1105</td>\n",
              "      <td>115.0</td>\n",
              "    </tr>\n",
              "    <tr>\n",
              "      <th>215</th>\n",
              "      <td>2020-12-31 17:25:00</td>\n",
              "      <td>17</td>\n",
              "      <td>5.0</td>\n",
              "      <td>9.0</td>\n",
              "      <td>75.0</td>\n",
              "      <td>160</td>\n",
              "      <td>1345</td>\n",
              "      <td>115.0</td>\n",
              "      <td>1305</td>\n",
              "      <td>130.0</td>\n",
              "    </tr>\n",
              "  </tbody>\n",
              "</table>\n",
              "<p>126 rows × 10 columns</p>\n",
              "</div>"
            ],
            "text/plain": [
              "               datetime hour  ...  last_big_before  last_wake_minutes\n",
              "1   2020-12-01 06:00:00    6  ...               30               40.0\n",
              "2   2020-12-01 09:25:00    9  ...              130              145.0\n",
              "3   2020-12-01 09:35:00    9  ...              140                5.0\n",
              "4   2020-12-01 11:45:00   11  ...               55               80.0\n",
              "5   2020-12-01 13:55:00   13  ...              185              120.0\n",
              "..                  ...  ...  ...              ...                ...\n",
              "210 2020-12-30 16:45:00   16  ...               15               85.0\n",
              "212 2020-12-31 08:10:00    8  ...              750              130.0\n",
              "213 2020-12-31 11:50:00   11  ...              970              170.0\n",
              "214 2020-12-31 14:05:00   14  ...             1105              115.0\n",
              "215 2020-12-31 17:25:00   17  ...             1305              130.0\n",
              "\n",
              "[126 rows x 10 columns]"
            ]
          },
          "metadata": {
            "tags": []
          },
          "execution_count": 168
        }
      ]
    },
    {
      "cell_type": "code",
      "metadata": {
        "id": "ce3u9NYgAT0x"
      },
      "source": [
        "sleep_daytime_df.to_csv(f'data/preprocessed/sleep_daytime_{target}.tsv', sep='\\t')"
      ],
      "execution_count": 169,
      "outputs": []
    },
    {
      "cell_type": "code",
      "metadata": {
        "id": "BtntpWsqCGH9"
      },
      "source": [
        ""
      ],
      "execution_count": 169,
      "outputs": []
    }
  ]
}